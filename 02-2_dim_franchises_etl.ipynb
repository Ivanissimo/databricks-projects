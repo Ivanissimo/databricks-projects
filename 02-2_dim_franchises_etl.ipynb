{
 "cells": [
  {
   "cell_type": "code",
   "execution_count": 0,
   "metadata": {
    "application/vnd.databricks.v1+cell": {
     "cellMetadata": {
      "byteLimit": 2048000,
      "rowLimit": 10000
     },
     "inputWidgets": {},
     "nuid": "802cd8e1-69ba-4c68-8638-958d8098a4ff",
     "showTitle": false,
     "tableResultSettingsMap": {},
     "title": ""
    }
   },
   "outputs": [],
   "source": [
    "import pyspark.sql.functions as F\n",
    "from pyspark.sql import Window as W\n",
    "import pyspark.sql.types as T\n"
   ]
  },
  {
   "cell_type": "code",
   "execution_count": 0,
   "metadata": {
    "application/vnd.databricks.v1+cell": {
     "cellMetadata": {
      "byteLimit": 2048000,
      "rowLimit": 10000
     },
     "inputWidgets": {},
     "nuid": "40a99d3a-4cd8-4473-bbc9-1db24c7a24d8",
     "showTitle": false,
     "tableResultSettingsMap": {},
     "title": ""
    }
   },
   "outputs": [],
   "source": [
    "df_franchises = spark.read.table(\"samples.bakehouse.sales_franchises\")\n",
    "df_franchises.printSchema()\n",
    "df_franchises.limit(3).toPandas()"
   ]
  },
  {
   "cell_type": "code",
   "execution_count": 0,
   "metadata": {
    "application/vnd.databricks.v1+cell": {
     "cellMetadata": {
      "byteLimit": 2048000,
      "rowLimit": 10000
     },
     "inputWidgets": {},
     "nuid": "6397febb-1dc5-43e0-9700-c55322c135d1",
     "showTitle": false,
     "tableResultSettingsMap": {},
     "title": ""
    }
   },
   "outputs": [],
   "source": [
    "(\n",
    "    df_franchises\n",
    "        .groupBy('size')\n",
    "        .agg(\n",
    "            F.min('longitude').alias('min_longitude'),\n",
    "            F.max('longitude').alias('max_longitude'),\n",
    "            F.min('latitude').alias('min_latitude'),\n",
    "            F.max('latitude').alias('max_latitude')\n",
    "        ).distinct()\n",
    "        .orderBy('size')\n",
    "        .show(50)\n",
    ")"
   ]
  },
  {
   "cell_type": "markdown",
   "metadata": {
    "application/vnd.databricks.v1+cell": {
     "cellMetadata": {
      "byteLimit": 2048000,
      "rowLimit": 10000
     },
     "inputWidgets": {},
     "nuid": "124a1cdd-16a4-4fd3-a0e3-0366c13e32ec",
     "showTitle": false,
     "tableResultSettingsMap": {},
     "title": ""
    }
   },
   "source": [
    "`latitude/longitude` extreme values + `size` values look good"
   ]
  },
  {
   "cell_type": "code",
   "execution_count": 0,
   "metadata": {
    "application/vnd.databricks.v1+cell": {
     "cellMetadata": {
      "byteLimit": 2048000,
      "rowLimit": 10000
     },
     "inputWidgets": {},
     "nuid": "031b09e6-cf55-4d5c-8993-5c4c03593d7a",
     "showTitle": false,
     "tableResultSettingsMap": {},
     "title": ""
    }
   },
   "outputs": [],
   "source": [
    "df_franchises.select('country', 'city').distinct().orderBy('country', 'city').show(50)"
   ]
  },
  {
   "cell_type": "markdown",
   "metadata": {
    "application/vnd.databricks.v1+cell": {
     "cellMetadata": {
      "byteLimit": 2048000,
      "rowLimit": 10000
     },
     "inputWidgets": {},
     "nuid": "db1bcc81-ee26-49df-844a-900bf193387e",
     "showTitle": false,
     "tableResultSettingsMap": {},
     "title": ""
    }
   },
   "source": [
    "cities look good"
   ]
  },
  {
   "cell_type": "code",
   "execution_count": 0,
   "metadata": {
    "application/vnd.databricks.v1+cell": {
     "cellMetadata": {
      "byteLimit": 2048000,
      "rowLimit": 10000
     },
     "inputWidgets": {},
     "nuid": "5e540eeb-6910-4cf4-ad74-ee8af908da55",
     "showTitle": false,
     "tableResultSettingsMap": {},
     "title": ""
    }
   },
   "outputs": [],
   "source": [
    "( # Count NULL values per each column of a dataframe\n",
    "    df_franchises\n",
    "        .select(\n",
    "            [F.count(F.when(F.col(c).isNull(),  c)).alias(c) for c in df_franchises.columns]\n",
    "        ).toPandas()\n",
    ")"
   ]
  },
  {
   "cell_type": "code",
   "execution_count": 0,
   "metadata": {
    "application/vnd.databricks.v1+cell": {
     "cellMetadata": {
      "byteLimit": 2048000,
      "rowLimit": 10000
     },
     "inputWidgets": {},
     "nuid": "b876f1e2-800d-4f0e-b1be-ccbe1929bcf6",
     "showTitle": false,
     "tableResultSettingsMap": {},
     "title": ""
    }
   },
   "outputs": [],
   "source": [
    "( # Count distinct values per each column of a dataframe\n",
    "    df_franchises\n",
    "        .select(\n",
    "            [F.countDistinct(F.col(c)).alias(c) for c in df_franchises.columns]\n",
    "        ).toPandas()\n",
    ")"
   ]
  },
  {
   "cell_type": "code",
   "execution_count": 0,
   "metadata": {
    "application/vnd.databricks.v1+cell": {
     "cellMetadata": {
      "byteLimit": 2048000,
      "rowLimit": 10000
     },
     "inputWidgets": {},
     "nuid": "d8b83e03-6b26-420f-9985-f73124ed9289",
     "showTitle": false,
     "tableResultSettingsMap": {},
     "title": ""
    }
   },
   "outputs": [],
   "source": [
    "# Standardizing some fields\n",
    "def clean_str(colname):\n",
    "    return F.initcap(F.trim(colname))\n",
    "\n",
    "df_franchises_standardized = (\n",
    "    df_franchises\n",
    "        .withColumn(\"name\", clean_str(\"name\")) \n",
    "        .withColumn(\"city\", clean_str(\"city\")) \n",
    "        .withColumn(\"district\", clean_str(\"district\")) \n",
    "        .withColumn(\"country\", F.when(F.col(\"country\") == \"US\", \"United States\").otherwise(F.col(\"country\")))\n",
    "        .withColumn(\"country\", clean_str(\"country\")) \n",
    ")\n",
    "\n",
    "df_franchises_standardized.limit(10).toPandas()"
   ]
  }
 ],
 "metadata": {
  "application/vnd.databricks.v1+notebook": {
   "computePreferences": null,
   "dashboards": [],
   "environmentMetadata": {
    "base_environment": "",
    "environment_version": "3"
   },
   "inputWidgetPreferences": null,
   "language": "python",
   "notebookMetadata": {
    "pythonIndentUnit": 4
   },
   "notebookName": "02-2_dim_franchises_etl",
   "widgets": {}
  },
  "language_info": {
   "name": "python"
  }
 },
 "nbformat": 4,
 "nbformat_minor": 0
}
