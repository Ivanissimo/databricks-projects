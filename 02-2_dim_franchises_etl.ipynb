{
 "cells": [
  {
   "cell_type": "markdown",
   "metadata": {
    "application/vnd.databricks.v1+cell": {
     "cellMetadata": {
      "byteLimit": 2048000,
      "rowLimit": 10000
     },
     "inputWidgets": {},
     "nuid": "048cb37c-08af-4487-a19d-320362dfb340",
     "showTitle": false,
     "tableResultSettingsMap": {},
     "title": ""
    }
   },
   "source": [
    "Setting the things up"
   ]
  },
  {
   "cell_type": "code",
   "execution_count": 0,
   "metadata": {
    "application/vnd.databricks.v1+cell": {
     "cellMetadata": {
      "byteLimit": 2048000,
      "rowLimit": 10000
     },
     "inputWidgets": {},
     "nuid": "802cd8e1-69ba-4c68-8638-958d8098a4ff",
     "showTitle": false,
     "tableResultSettingsMap": {},
     "title": ""
    }
   },
   "outputs": [],
   "source": [
    "import pyspark.sql.functions as F\n",
    "from pyspark.sql import Window as W\n",
    "import pyspark.sql.types as T\n"
   ]
  },
  {
   "cell_type": "code",
   "execution_count": 0,
   "metadata": {
    "application/vnd.databricks.v1+cell": {
     "cellMetadata": {
      "byteLimit": 2048000,
      "rowLimit": 10000
     },
     "inputWidgets": {},
     "nuid": "f7b9738f-39d3-4d61-a7b4-1a42d1cde1bf",
     "showTitle": false,
     "tableResultSettingsMap": {},
     "title": ""
    }
   },
   "outputs": [],
   "source": [
    "# Install the H3 library (only once per cluster)\n",
    "%pip install h3\n",
    "\n",
    "import h3\n",
    "import pyspark.sql.functions as F\n",
    "from pyspark.sql.types import StringType"
   ]
  },
  {
   "cell_type": "code",
   "execution_count": 0,
   "metadata": {
    "application/vnd.databricks.v1+cell": {
     "cellMetadata": {
      "byteLimit": 2048000,
      "rowLimit": 10000
     },
     "inputWidgets": {},
     "nuid": "ec5e866f-4fde-4982-a02b-6397efcc6c43",
     "showTitle": false,
     "tableResultSettingsMap": {},
     "title": ""
    }
   },
   "outputs": [],
   "source": [
    "# Configuration parameters for `Step 4`\n",
    "targetDB = \"gold\"\n",
    "targetTableName = \"dim_franchise\"\n",
    "sourceView = \"vw_source_franchise\"\n",
    "naturalKey = \"franchiseID\"\n",
    "businessColumns = \"franchiseID,name,city,district,zipcode,country,size,longitude,latitude,supplierID,location_index\"\n",
    "#spark.conf.set(\"spark.databricks.delta.schema.autoMerge.enabled\", \"true\") # normally I would enable schema evolution, but this configuration isn't available in Free Edition"
   ]
  },
  {
   "cell_type": "markdown",
   "metadata": {
    "application/vnd.databricks.v1+cell": {
     "cellMetadata": {
      "byteLimit": 2048000,
      "rowLimit": 10000
     },
     "inputWidgets": {},
     "nuid": "28c0d75f-12ba-49f2-819f-8a88b1a37f93",
     "showTitle": false,
     "tableResultSettingsMap": {},
     "title": ""
    }
   },
   "source": [
    "Loading Data"
   ]
  },
  {
   "cell_type": "code",
   "execution_count": 0,
   "metadata": {
    "application/vnd.databricks.v1+cell": {
     "cellMetadata": {
      "byteLimit": 2048000,
      "rowLimit": 10000
     },
     "inputWidgets": {},
     "nuid": "40a99d3a-4cd8-4473-bbc9-1db24c7a24d8",
     "showTitle": false,
     "tableResultSettingsMap": {},
     "title": ""
    }
   },
   "outputs": [],
   "source": [
    "df_franchises = spark.read.table(\"samples.bakehouse.sales_franchises\")\n",
    "df_franchises.printSchema()\n",
    "df_franchises.limit(3).toPandas()"
   ]
  },
  {
   "cell_type": "markdown",
   "metadata": {
    "application/vnd.databricks.v1+cell": {
     "cellMetadata": {
      "byteLimit": 2048000,
      "rowLimit": 10000
     },
     "inputWidgets": {},
     "nuid": "61048ba0-a30b-4399-b3aa-bf63086d4a74",
     "showTitle": false,
     "tableResultSettingsMap": {},
     "title": ""
    }
   },
   "source": []
  },
  {
   "cell_type": "code",
   "execution_count": 0,
   "metadata": {
    "application/vnd.databricks.v1+cell": {
     "cellMetadata": {
      "byteLimit": 2048000,
      "rowLimit": 10000
     },
     "inputWidgets": {},
     "nuid": "6397febb-1dc5-43e0-9700-c55322c135d1",
     "showTitle": false,
     "tableResultSettingsMap": {},
     "title": ""
    }
   },
   "outputs": [],
   "source": [
    "(\n",
    "    df_franchises\n",
    "        .groupBy('size')\n",
    "        .agg(\n",
    "            F.min('longitude').alias('min_longitude'),\n",
    "            F.max('longitude').alias('max_longitude'),\n",
    "            F.min('latitude').alias('min_latitude'),\n",
    "            F.max('latitude').alias('max_latitude')\n",
    "        ).distinct()\n",
    "        .orderBy('size')\n",
    "        .show(50)\n",
    ")"
   ]
  },
  {
   "cell_type": "markdown",
   "metadata": {
    "application/vnd.databricks.v1+cell": {
     "cellMetadata": {
      "byteLimit": 2048000,
      "rowLimit": 10000
     },
     "inputWidgets": {},
     "nuid": "124a1cdd-16a4-4fd3-a0e3-0366c13e32ec",
     "showTitle": false,
     "tableResultSettingsMap": {},
     "title": ""
    }
   },
   "source": [
    "`latitude/longitude` extreme values + `size` values look good"
   ]
  },
  {
   "cell_type": "code",
   "execution_count": 0,
   "metadata": {
    "application/vnd.databricks.v1+cell": {
     "cellMetadata": {
      "byteLimit": 2048000,
      "rowLimit": 10000
     },
     "inputWidgets": {},
     "nuid": "031b09e6-cf55-4d5c-8993-5c4c03593d7a",
     "showTitle": false,
     "tableResultSettingsMap": {},
     "title": ""
    }
   },
   "outputs": [],
   "source": [
    "df_franchises.select('country', 'city').distinct().orderBy('country', 'city').show(50)"
   ]
  },
  {
   "cell_type": "markdown",
   "metadata": {
    "application/vnd.databricks.v1+cell": {
     "cellMetadata": {
      "byteLimit": 2048000,
      "rowLimit": 10000
     },
     "inputWidgets": {},
     "nuid": "db1bcc81-ee26-49df-844a-900bf193387e",
     "showTitle": false,
     "tableResultSettingsMap": {},
     "title": ""
    }
   },
   "source": [
    "cities look good"
   ]
  },
  {
   "cell_type": "code",
   "execution_count": 0,
   "metadata": {
    "application/vnd.databricks.v1+cell": {
     "cellMetadata": {
      "byteLimit": 2048000,
      "rowLimit": 10000
     },
     "inputWidgets": {},
     "nuid": "5e540eeb-6910-4cf4-ad74-ee8af908da55",
     "showTitle": false,
     "tableResultSettingsMap": {},
     "title": ""
    }
   },
   "outputs": [],
   "source": [
    "( # Count NULL values per each column of a dataframe\n",
    "    df_franchises\n",
    "        .select(\n",
    "            [F.count(F.when(F.col(c).isNull(),  c)).alias(c) for c in df_franchises.columns]\n",
    "        ).toPandas()\n",
    ")"
   ]
  },
  {
   "cell_type": "code",
   "execution_count": 0,
   "metadata": {
    "application/vnd.databricks.v1+cell": {
     "cellMetadata": {
      "byteLimit": 2048000,
      "rowLimit": 10000
     },
     "inputWidgets": {},
     "nuid": "b876f1e2-800d-4f0e-b1be-ccbe1929bcf6",
     "showTitle": false,
     "tableResultSettingsMap": {},
     "title": ""
    }
   },
   "outputs": [],
   "source": [
    "( # Count distinct values per each column of a dataframe\n",
    "    df_franchises\n",
    "        .select(\n",
    "            [F.countDistinct(F.col(c)).alias(c) for c in df_franchises.columns]\n",
    "        ).toPandas()\n",
    ")"
   ]
  },
  {
   "cell_type": "markdown",
   "metadata": {
    "application/vnd.databricks.v1+cell": {
     "cellMetadata": {
      "byteLimit": 2048000,
      "rowLimit": 10000
     },
     "inputWidgets": {},
     "nuid": "bc8f846b-0ef3-4231-8ad5-bbcccec0e9ad",
     "showTitle": false,
     "tableResultSettingsMap": {},
     "title": ""
    }
   },
   "source": [
    "Transformations"
   ]
  },
  {
   "cell_type": "code",
   "execution_count": 0,
   "metadata": {
    "application/vnd.databricks.v1+cell": {
     "cellMetadata": {
      "byteLimit": 2048000,
      "rowLimit": 10000
     },
     "inputWidgets": {},
     "nuid": "d8b83e03-6b26-420f-9985-f73124ed9289",
     "showTitle": false,
     "tableResultSettingsMap": {},
     "title": ""
    }
   },
   "outputs": [],
   "source": [
    "# Standardizing some fields\n",
    "def clean_str(colname):\n",
    "    return F.initcap(F.trim(colname))\n",
    "\n",
    "df_franchises_standardized = (\n",
    "    df_franchises\n",
    "        .withColumn(\"name\", clean_str(\"name\")) \n",
    "        .withColumn(\"city\", clean_str(\"city\")) \n",
    "        .withColumn(\"district\", clean_str(\"district\")) \n",
    "        .withColumn(\"country\", F.when(F.col(\"country\") == \"US\", \"United States\").otherwise(F.col(\"country\")))\n",
    "        .withColumn(\"country\", clean_str(\"country\")) \n",
    ")\n",
    "\n",
    "df_franchises_standardized.limit(10).toPandas()"
   ]
  },
  {
   "cell_type": "markdown",
   "metadata": {
    "application/vnd.databricks.v1+cell": {
     "cellMetadata": {
      "byteLimit": 2048000,
      "rowLimit": 10000
     },
     "inputWidgets": {},
     "nuid": "a91f1458-18fa-4430-b491-e84d4118bb2d",
     "showTitle": false,
     "tableResultSettingsMap": {},
     "title": ""
    }
   },
   "source": [
    "add a geohash or location_h3 index for spatial joins/analytics"
   ]
  },
  {
   "cell_type": "code",
   "execution_count": 0,
   "metadata": {
    "application/vnd.databricks.v1+cell": {
     "cellMetadata": {
      "byteLimit": 2048000,
      "rowLimit": 10000
     },
     "inputWidgets": {},
     "nuid": "6a3339e2-84a8-4b7f-85ef-33cd3de127f1",
     "showTitle": false,
     "tableResultSettingsMap": {},
     "title": ""
    }
   },
   "outputs": [],
   "source": [
    "# h3.latlng_to_cell(lat, lon, resolution)\n",
    "h3_udf = F.udf(lambda lat, lon: h3.latlng_to_cell(lat, lon, 9), StringType())\n",
    "\n",
    "df_franchises_standardized_h3 = (\n",
    "    df_franchises_standardized\n",
    "        .withColumn(\"location_index\", h3_udf(F.col(\"latitude\"), F.col(\"longitude\")))\n",
    ")\n",
    "\n",
    "df_franchises_standardized_h3.limit(10).toPandas()"
   ]
  },
  {
   "cell_type": "markdown",
   "metadata": {
    "application/vnd.databricks.v1+cell": {
     "cellMetadata": {
      "byteLimit": 2048000,
      "rowLimit": 10000
     },
     "inputWidgets": {},
     "nuid": "98af850c-b458-4069-a500-d60135487d2c",
     "showTitle": false,
     "tableResultSettingsMap": {},
     "title": ""
    }
   },
   "source": [
    "Referential Integrity w/ Suppliers"
   ]
  },
  {
   "cell_type": "code",
   "execution_count": 0,
   "metadata": {
    "application/vnd.databricks.v1+cell": {
     "cellMetadata": {
      "byteLimit": 2048000,
      "implicitDf": true,
      "rowLimit": 10000
     },
     "inputWidgets": {},
     "nuid": "d811a10f-f35d-4475-a9f7-63427e746ccc",
     "showTitle": false,
     "tableResultSettingsMap": {},
     "title": ""
    }
   },
   "outputs": [],
   "source": [
    "df_franchises_standardized_h3.createOrReplaceTempView(\"franchises\")\n",
    "\n",
    "query = \"\"\"\n",
    "SELECT f.*\n",
    "FROM franchises f\n",
    "LEFT JOIN samples.bakehouse.sales_suppliers s\n",
    "  ON f.supplierID = s.supplierID\n",
    "WHERE\n",
    "  s.supplierID IS NULL\n",
    "\"\"\"\n",
    "\n",
    "df_orphan_franchises = spark.sql(query)\n",
    "df_orphan_franchises.limit(10).toPandas()\n",
    "#df_orphan_franchises.count()"
   ]
  },
  {
   "cell_type": "code",
   "execution_count": 0,
   "metadata": {
    "application/vnd.databricks.v1+cell": {
     "cellMetadata": {
      "byteLimit": 2048000,
      "rowLimit": 10000
     },
     "inputWidgets": {},
     "nuid": "72e98ca1-38bf-4800-a58a-5872e39bf8a9",
     "showTitle": false,
     "tableResultSettingsMap": {},
     "title": ""
    }
   },
   "outputs": [],
   "source": [
    "# Create the schema if it does not exist\n",
    "spark.sql(\"CREATE SCHEMA IF NOT EXISTS dq_logs\")\n",
    "\n",
    "dq_table = \"dq_logs.orphan_franchises\"\n",
    "\n",
    "(df_orphan_franchises\n",
    "    .withColumn(\"logged_at\", F.current_timestamp())\n",
    "    .write\n",
    "    .mode(\"append\")\n",
    "    .format(\"delta\")\n",
    "    .saveAsTable(dq_table)\n",
    ")\n"
   ]
  },
  {
   "cell_type": "markdown",
   "metadata": {
    "application/vnd.databricks.v1+cell": {
     "cellMetadata": {
      "byteLimit": 2048000,
      "rowLimit": 10000
     },
     "inputWidgets": {},
     "nuid": "862491e0-90dc-4e20-a017-4c0a3cf21183",
     "showTitle": false,
     "tableResultSettingsMap": {},
     "title": ""
    }
   },
   "source": [
    "Surrogate Key Assignment\n",
    "\n",
    "**Why**\n",
    "- Business data does not come with a stable surrogate key.\n",
    "- We need a monotonically increasing customer_key that stays unique across pipeline runs.\n",
    "\n",
    "**How**\n",
    "- Get the current max customer_key from the target table.\n",
    "  - If table doesn’t exist → start from 0\n",
    "  - If table exists but empty → start from 0\n",
    "  - Otherwise → continue from last max key\n",
    "- Assign new keys using row_number() + offset = max_key\n",
    "\n",
    "**Result**\n",
    "- Keys are consistent and do not restart from 1 on every run\n",
    "- Idempotent: safe whether table is empty, existing, or absent"
   ]
  },
  {
   "cell_type": "code",
   "execution_count": 0,
   "metadata": {
    "application/vnd.databricks.v1+cell": {
     "cellMetadata": {
      "byteLimit": 2048000,
      "rowLimit": 10000
     },
     "inputWidgets": {},
     "nuid": "b90f362d-0607-49f6-bc58-5211dc8d8b16",
     "showTitle": false,
     "tableResultSettingsMap": {},
     "title": ""
    }
   },
   "outputs": [],
   "source": [
    "# Get current max customer_key from target table\n",
    "try:\n",
    "    max_key = (\n",
    "        spark.table(f\"{targetDB}.{targetTableName}\") \n",
    "            .agg(F.max(\"franchise_key\").alias(\"max_key\")) \n",
    "            .collect()[0][\"max_key\"] \n",
    "    )\n",
    "    if max_key is None:\n",
    "        max_key = 0\n",
    "except Exception as e:\n",
    "    max_key = 0  # Table does not exist yet\n",
    "\n",
    "df_franchises_standardized_h3_PK = (\n",
    "    df_franchises_standardized_h3\n",
    "        .withColumn(\n",
    "            \"franchise_key\", \n",
    "            F.row_number().over(W.orderBy(\"franchiseID\")) + max_key)\n",
    "        .select(\"franchise_key\", *df_franchises_standardized_h3.columns)\n",
    ")\n",
    "\n",
    "df_franchises_standardized_h3_PK.orderBy(\"franchise_key\").limit(10).toPandas()"
   ]
  },
  {
   "cell_type": "markdown",
   "metadata": {
    "application/vnd.databricks.v1+cell": {
     "cellMetadata": {},
     "inputWidgets": {},
     "nuid": "467c7765-97c9-4c41-ad4b-daef2a47cc92",
     "showTitle": false,
     "tableResultSettingsMap": {},
     "title": ""
    }
   },
   "source": [
    "Techincal Columns"
   ]
  },
  {
   "cell_type": "code",
   "execution_count": 0,
   "metadata": {
    "application/vnd.databricks.v1+cell": {
     "cellMetadata": {
      "byteLimit": 2048000,
      "rowLimit": 10000
     },
     "inputWidgets": {},
     "nuid": "6007fdfc-8a4d-4d71-8a40-b69bf6ff904b",
     "showTitle": false,
     "tableResultSettingsMap": {},
     "title": ""
    }
   },
   "outputs": [],
   "source": [
    "df_franchises_standardized_h3_PK.createOrReplaceTempView(sourceView)\n",
    "\n",
    "# Creating a target table if it doesn't exist\n",
    "tableDDL = f\"\"\"\n",
    "CREATE TABLE IF NOT EXISTS {targetDB}.{targetTableName} \n",
    "USING DELTA \n",
    "PARTITIONED BY (size) \n",
    "TBLPROPERTIES ('delta.enableChangeDataFeed'='true')\n",
    "AS \n",
    "SELECT\n",
    "    row_number() OVER (ORDER BY {naturalKey}) AS franchise_key, -- surrogate key\n",
    "    {businessColumns},\n",
    "    1 as is_active,                     -- SCD Type2 Fields\n",
    "    current_timestamp() as valid_from,  -- SCD Type2 Fields\n",
    "    current_timestamp() as valid_to     -- SCD Type2 Fields\n",
    "FROM {sourceView}\n",
    "WHERE 1=0\"\"\"\n",
    "\n",
    "#print(tableDDL)\n",
    "spark.sql(tableDDL)"
   ]
  },
  {
   "cell_type": "markdown",
   "metadata": {
    "application/vnd.databricks.v1+cell": {
     "cellMetadata": {
      "byteLimit": 2048000,
      "rowLimit": 10000
     },
     "inputWidgets": {},
     "nuid": "f646c2ab-2af5-498c-bb6d-1842d82d2e06",
     "showTitle": false,
     "tableResultSettingsMap": {},
     "title": ""
    }
   },
   "source": [
    "SCD Type 2"
   ]
  },
  {
   "cell_type": "code",
   "execution_count": 0,
   "metadata": {
    "application/vnd.databricks.v1+cell": {
     "cellMetadata": {
      "byteLimit": 2048000,
      "rowLimit": 10000
     },
     "inputWidgets": {},
     "nuid": "4d521a1e-50c2-43dd-b0c2-98995fa33a5f",
     "showTitle": false,
     "tableResultSettingsMap": {},
     "title": ""
    }
   },
   "outputs": [],
   "source": [
    "target_table = f\"{targetDB}.{targetTableName}\"\n",
    "\n",
    "try:\n",
    "    df_target = spark.table(target_table)\n",
    "except:\n",
    "    df_target = None\n",
    "\n",
    "df_source = df_franchises_standardized_h3_PK\n"
   ]
  },
  {
   "cell_type": "code",
   "execution_count": 0,
   "metadata": {
    "application/vnd.databricks.v1+cell": {
     "cellMetadata": {},
     "inputWidgets": {},
     "nuid": "94ceff0f-27d6-4dc9-9749-416204cba5e1",
     "showTitle": false,
     "tableResultSettingsMap": {},
     "title": ""
    }
   },
   "outputs": [],
   "source": [
    "df_target.head()"
   ]
  },
  {
   "cell_type": "code",
   "execution_count": 0,
   "metadata": {
    "application/vnd.databricks.v1+cell": {
     "cellMetadata": {
      "byteLimit": 2048000,
      "rowLimit": 10000
     },
     "inputWidgets": {},
     "nuid": "fa678832-e5b6-4c5b-985a-31baa55b7ee8",
     "showTitle": false,
     "tableResultSettingsMap": {},
     "title": ""
    }
   },
   "outputs": [],
   "source": [
    "join_condition = \"src.franchiseID = tgt.franchiseID\"\n",
    "\n",
    "df_joined = (\n",
    "    df_source.alias(\"src\")\n",
    "    .join(df_target.alias(\"tgt\"), F.expr(join_condition), \"left\")\n",
    "    .select(\n",
    "        \"src.*\",\n",
    "    #    \"tgt.franchiseID as tgt_franchiseID\",\n",
    "    #    \"tgt.hash_diff as tgt_hash_diff\",\n",
    "        F.lit(1).alias(\"tgt_is_current\"),\n",
    "        F.current_timestamp().alias(\"tgt_valid_from\"),\n",
    "        F.lit('9999-12-31').alias(\"tgt_valid_to\")\n",
    "    )\n",
    ")\n",
    "\n",
    "df_joined.limit(10).toPandas()\n"
   ]
  },
  {
   "cell_type": "code",
   "execution_count": 0,
   "metadata": {
    "application/vnd.databricks.v1+cell": {
     "cellMetadata": {},
     "inputWidgets": {},
     "nuid": "1a2cebaf-b5ca-4fdc-aa46-9b41c1087b56",
     "showTitle": false,
     "tableResultSettingsMap": {},
     "title": ""
    }
   },
   "outputs": [],
   "source": [
    "df_changes = (\n",
    "    df_joined\n",
    "    .withColumn(\"record_flag\", \n",
    "                    F.when(F.col(\"tgt_hash_diff\").isNull(), \"INSERT\")  # new\n",
    "                .when(F.col(\"src.hash_diff\") != F.col(\"tgt_hash_diff\"), \"UPDATE\") # changed\n",
    "                .otherwise(\"UNCHANGED\"))                                          # same\n",
    ")\n"
   ]
  }
 ],
 "metadata": {
  "application/vnd.databricks.v1+notebook": {
   "computePreferences": null,
   "dashboards": [],
   "environmentMetadata": {
    "base_environment": "",
    "environment_version": "3"
   },
   "inputWidgetPreferences": null,
   "language": "python",
   "notebookMetadata": {
    "mostRecentlyExecutedCommandWithImplicitDF": {
     "commandId": 5508231110253389,
     "dataframes": [
      "_sqldf"
     ]
    },
    "pythonIndentUnit": 4
   },
   "notebookName": "02-2_dim_franchises_etl",
   "widgets": {}
  },
  "language_info": {
   "name": "python"
  }
 },
 "nbformat": 4,
 "nbformat_minor": 0
}
