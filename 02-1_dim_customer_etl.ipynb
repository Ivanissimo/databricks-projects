{
 "cells": [
  {
   "cell_type": "code",
   "execution_count": 0,
   "metadata": {
    "application/vnd.databricks.v1+cell": {
     "cellMetadata": {
      "byteLimit": 2048000,
      "rowLimit": 10000
     },
     "inputWidgets": {},
     "nuid": "92a5fd1e-b219-414c-bb01-a8c7962beb09",
     "showTitle": false,
     "tableResultSettingsMap": {},
     "title": ""
    }
   },
   "outputs": [],
   "source": [
    "import pyspark.sql.functions as F\n",
    "import pyspark.sql.types as T\n"
   ]
  },
  {
   "cell_type": "markdown",
   "metadata": {
    "application/vnd.databricks.v1+cell": {
     "cellMetadata": {
      "byteLimit": 2048000,
      "rowLimit": 10000
     },
     "inputWidgets": {},
     "nuid": "4c88b25b-81ae-4c71-831c-4ccb78572f3c",
     "showTitle": false,
     "tableResultSettingsMap": {},
     "title": ""
    }
   },
   "source": [
    "### `Step 1`: Quick Analysis"
   ]
  },
  {
   "cell_type": "code",
   "execution_count": 0,
   "metadata": {
    "application/vnd.databricks.v1+cell": {
     "cellMetadata": {
      "byteLimit": 2048000,
      "rowLimit": 10000
     },
     "inputWidgets": {},
     "nuid": "2db50309-4bfe-4be0-85dd-7275ef133964",
     "showTitle": false,
     "tableResultSettingsMap": {},
     "title": ""
    }
   },
   "outputs": [],
   "source": [
    "df_sales_customers = spark.read.table(\"samples.bakehouse.sales_customers\")\n",
    "df_sales_customers.printSchema()\n",
    "df_sales_customers.limit(3).toPandas()"
   ]
  },
  {
   "cell_type": "code",
   "execution_count": 0,
   "metadata": {
    "application/vnd.databricks.v1+cell": {
     "cellMetadata": {
      "byteLimit": 2048000,
      "rowLimit": 10000
     },
     "inputWidgets": {},
     "nuid": "36e9ac9c-cdb5-4c34-9dd1-754b40e4a5ac",
     "showTitle": false,
     "tableResultSettingsMap": {},
     "title": ""
    }
   },
   "outputs": [],
   "source": [
    "# distinct values per each column: 300 rows\n",
    "df_sales_customers.select([F.countDistinct(F.col(c)).alias(c) for c in df_sales_customers.columns]).toPandas()\n",
    "\n",
    "# count NULLs per each column: no NULLs, this is nice\n",
    "df_sales_customers.select([F.count(F.when(F.col(c).isNull(), c)).alias(c) for c in df_sales_customers.columns]).toPandas()"
   ]
  },
  {
   "cell_type": "markdown",
   "metadata": {
    "application/vnd.databricks.v1+cell": {
     "cellMetadata": {
      "byteLimit": 2048000,
      "rowLimit": 10000
     },
     "inputWidgets": {},
     "nuid": "c7f65caf-bb5a-4989-886d-ccec57ff66b4",
     "showTitle": false,
     "tableResultSettingsMap": {},
     "title": ""
    }
   },
   "source": [
    "### `Step 2.1`: Data Quality Issue - `gender`"
   ]
  },
  {
   "cell_type": "markdown",
   "metadata": {
    "application/vnd.databricks.v1+cell": {
     "cellMetadata": {
      "byteLimit": 2048000,
      "rowLimit": 10000
     },
     "inputWidgets": {},
     "nuid": "3f732465-297d-4ce5-99de-3e21b0ce31e9",
     "showTitle": false,
     "tableResultSettingsMap": {},
     "title": ""
    }
   },
   "source": [
    "In `01_bakehouse_exloratory_analysis.ipynb` I noticed 'Matthew' can be female.\n",
    "\n",
    "Let's create a view and quickly see if this is a data quality issue or not \n"
   ]
  },
  {
   "cell_type": "code",
   "execution_count": 0,
   "metadata": {
    "application/vnd.databricks.v1+cell": {
     "cellMetadata": {
      "byteLimit": 2048000,
      "rowLimit": 10000
     },
     "inputWidgets": {},
     "nuid": "1ac90f73-0a87-4ea7-a068-ea75625b88b4",
     "showTitle": false,
     "tableResultSettingsMap": {},
     "title": ""
    }
   },
   "outputs": [],
   "source": [
    "df_sales_customers.createOrReplaceTempView(\"vw_sales_customers\")\n"
   ]
  },
  {
   "cell_type": "code",
   "execution_count": 0,
   "metadata": {
    "application/vnd.databricks.v1+cell": {
     "cellMetadata": {
      "byteLimit": 2048000,
      "rowLimit": 10000
     },
     "inputWidgets": {},
     "nuid": "3a175537-7c36-4266-bb26-e904964755fe",
     "showTitle": false,
     "tableResultSettingsMap": {},
     "title": ""
    }
   },
   "outputs": [],
   "source": [
    "%%sql\n",
    "WITH CTE_DISTINCT_first_name_gender AS (\n",
    "    SELECT DISTINCT\n",
    "         first_name\n",
    "        ,gender\n",
    "    FROM vw_sales_customers\n",
    ")\n",
    "\n",
    ",CTE_first_name_with_both_genders AS (\n",
    "    SELECT \n",
    "         first_name\n",
    "        ,COUNT(1) AS count_first_name\n",
    "    FROM CTE_DISTINCT_first_name_gender\n",
    "    GROUP BY \n",
    "        first_name\n",
    "    HAVING \n",
    "        COUNT(1) > 1\n",
    ")\n",
    "\n",
    "SELECT DISTINCT \n",
    "     vw.first_name\n",
    "    ,vw.gender\n",
    "    ,cte.count_first_name\n",
    "FROM vw_sales_customers vw\n",
    "INNER JOIN CTE_first_name_with_both_genders cte -- to filter only on duping names with both genders\n",
    "    ON vw.first_name = cte.first_name \n",
    "ORDER BY \n",
    "     cte.count_first_name DESC\n",
    "    ,vw.first_name\n",
    "    ,vw.gender\n"
   ]
  },
  {
   "cell_type": "markdown",
   "metadata": {
    "application/vnd.databricks.v1+cell": {
     "cellMetadata": {
      "byteLimit": 2048000,
      "rowLimit": 10000
     },
     "inputWidgets": {},
     "nuid": "c1a09512-973f-462d-b7aa-9e62b019e985",
     "showTitle": false,
     "tableResultSettingsMap": {},
     "title": ""
    }
   },
   "source": [
    "There ☝️ are `74/2 == 37` names with both genders.\n",
    "Some of them are indeex unisex, but not all.\n",
    "This means we need to do some extra work to get the gender right.\n",
    "\n",
    "Let's import open-source baby-names data from  official website of the US government: https://www.ssa.gov/oact/babynames/limits.html"
   ]
  },
  {
   "cell_type": "code",
   "execution_count": 0,
   "metadata": {
    "application/vnd.databricks.v1+cell": {
     "cellMetadata": {
      "byteLimit": 2048000,
      "rowLimit": 10000
     },
     "inputWidgets": {},
     "nuid": "6e8d5460-f1de-46cb-9335-c9f23c58f28b",
     "showTitle": false,
     "tableResultSettingsMap": {},
     "title": ""
    }
   },
   "outputs": [],
   "source": [
    "babyNames_file_path = \"dbfs:/Volumes/workspace/default/testvolume/US_SSA_Baby_Names_2024.txt\"\n",
    "\n",
    "# txt file has no header, thus I will create a custom schema for the dataframe\n",
    "# plus, having a predefined schema saves a lot of time for Spark to infer the schema\n",
    "babyNamesSchema = T.StructType([\n",
    "    T.StructField(\"name\",   T.StringType(), True),\n",
    "    T.StructField(\"gender\", T.StringType(), True),\n",
    "    T.StructField(\"count\",  T.IntegerType(), True)\n",
    "])\n",
    "\n",
    "df_babyNames = (\n",
    "    spark.read.csv(\n",
    "        babyNames_file_path,\n",
    "        sep = \",\",\n",
    "        schema = babyNamesSchema\n",
    "    ) \n",
    "    .select(\"name\", \"gender\") \n",
    "    .withColumnRenamed(\"name\", \"first_name\") \n",
    "    .withColumn(\"gender\", F.when(F.col(\"gender\") == \"F\", \"female\").otherwise(\"male\")) \n",
    "    .withColumnRenamed(\"gender\", \"gender_correct\")\n",
    "    .dropDuplicates([\"first_name\", \"gender_correct\"])\n",
    ")\n",
    "\n",
    "df_babyNames.where(\"first_name in ('Asyah', 'Atari', 'Owen')\").orderBy(\"first_name\", \"gender_correct\").show()"
   ]
  },
  {
   "cell_type": "markdown",
   "metadata": {
    "application/vnd.databricks.v1+cell": {
     "cellMetadata": {
      "byteLimit": 2048000,
      "rowLimit": 10000
     },
     "inputWidgets": {},
     "nuid": "9e4a9a6e-27f8-4cda-8133-49f6475afa06",
     "showTitle": false,
     "tableResultSettingsMap": {},
     "title": ""
    }
   },
   "source": [
    "Some names (like above☝️) can be both male and female. \n",
    "\n",
    "Let's split `df_babyNames` into two dfs: w/ unisex names and w/ single-gender names"
   ]
  },
  {
   "cell_type": "code",
   "execution_count": 0,
   "metadata": {
    "application/vnd.databricks.v1+cell": {
     "cellMetadata": {
      "byteLimit": 2048000,
      "rowLimit": 10000
     },
     "inputWidgets": {},
     "nuid": "24de53de-6aa6-425f-b3fd-0bb8dc226b44",
     "showTitle": false,
     "tableResultSettingsMap": {},
     "title": ""
    }
   },
   "outputs": [],
   "source": [
    "# single gender names\n",
    "df_babyNames_single_gender = (\n",
    "    df_babyNames\n",
    "        .groupBy(\"first_name\")\n",
    "        .count()\n",
    "        .where(F.col(\"count\") == 1)\n",
    "        .drop(\"count\")\n",
    ")\n",
    "\n",
    "# `df_babyNames`: create a list of non-duping names (aka single gender)\n",
    "babyNames_single_gender_names_list = [\n",
    "    row[\"first_name\"] \n",
    "    for row in df_babyNames_single_gender.select(\"first_name\").collect()\n",
    "]\n",
    "\n",
    "# let's split `df_babyNames` into two dfs: one w/ unisex names and the other w/ single-gender names\n",
    "df_babyNames_unisex_names = (\n",
    "    df_babyNames\n",
    "    .where(~F.col(\"first_name\").isin(babyNames_single_gender_names_list))\n",
    ")\n",
    "\n",
    "df_babyNames_single_gender_names = (\n",
    "    df_babyNames\n",
    "    .where(F.col(\"first_name\").isin(babyNames_single_gender_names_list))\n",
    ")\n",
    "\n",
    "# quick check on count\n",
    "print(\n",
    "    f\"Total:{df_babyNames.count()}, \" #31904\n",
    "    f\"Duping names:{df_babyNames_unisex_names.count()}, \" #5358\n",
    "    f\"Non-duping names:{df_babyNames_single_gender_names.count()}\" #26546\n",
    ")\n"
   ]
  },
  {
   "cell_type": "markdown",
   "metadata": {
    "application/vnd.databricks.v1+cell": {
     "cellMetadata": {
      "byteLimit": 2048000,
      "rowLimit": 10000
     },
     "inputWidgets": {},
     "nuid": "792ff96c-1041-4195-b99c-408db48dfc83",
     "showTitle": false,
     "tableResultSettingsMap": {},
     "title": ""
    }
   },
   "source": [
    "Let's do the same with `df_sales_customers`: split into duping and non-dupling names dfs"
   ]
  },
  {
   "cell_type": "code",
   "execution_count": 0,
   "metadata": {
    "application/vnd.databricks.v1+cell": {
     "cellMetadata": {
      "byteLimit": 2048000,
      "rowLimit": 10000
     },
     "inputWidgets": {},
     "nuid": "c2a1864d-3e50-431c-b1ce-5cb464acc516",
     "showTitle": false,
     "tableResultSettingsMap": {},
     "title": ""
    }
   },
   "outputs": [],
   "source": [
    "# `df_sales_customers`: create a list of duping names\n",
    "sales_customers_duping_names =  (\n",
    "    df_sales_customers\n",
    "        .groupBy(\"first_name\")\n",
    "        .count()\n",
    "        .where(F.col(\"count\") > 1)\n",
    "        .drop(\"count\")\n",
    ")\n",
    "\n",
    "sales_customers_duping_names_list = [\n",
    "    row[\"first_name\"] \n",
    "    for row in sales_customers_duping_names.select(\"first_name\").collect()\n",
    "]\n",
    "\n",
    "# let's split `df_sales_customers` into two dfs: one w/ duping names and the other w/ non-duping names\n",
    "df_sales_customers_duping_names = (\n",
    "    df_sales_customers\n",
    "    .where(F.col(\"first_name\").isin(sales_customers_duping_names_list))\n",
    ")\n",
    "\n",
    "df_sales_customers_nonDuping_names = (\n",
    "    df_sales_customers\n",
    "    .where(~F.col(\"first_name\").isin(sales_customers_duping_names_list))\n",
    ")\n",
    "\n",
    "# quick check on count\n",
    "print(\n",
    "    f\"Total:{df_sales_customers.count()}, \" #300\n",
    "    f\"Duping names:{df_sales_customers_duping_names.count()}, \" #180\n",
    "    f\"Non-duping names:{df_sales_customers_nonDuping_names.count()}\" #120\n",
    ")"
   ]
  },
  {
   "cell_type": "code",
   "execution_count": 0,
   "metadata": {
    "application/vnd.databricks.v1+cell": {
     "cellMetadata": {
      "byteLimit": 2048000,
      "rowLimit": 10000
     },
     "inputWidgets": {},
     "nuid": "92caf6ee-6f01-4e5f-b544-693e687374b8",
     "showTitle": false,
     "tableResultSettingsMap": {},
     "title": ""
    }
   },
   "outputs": [],
   "source": [
    "df_babyNames_single_gender_names.show(3)"
   ]
  },
  {
   "cell_type": "markdown",
   "metadata": {
    "application/vnd.databricks.v1+cell": {
     "cellMetadata": {
      "byteLimit": 2048000,
      "rowLimit": 10000
     },
     "inputWidgets": {},
     "nuid": "c6380415-efd8-42da-bfa9-5374d0a60577",
     "showTitle": false,
     "tableResultSettingsMap": {},
     "title": ""
    }
   },
   "source": [
    "We need to fix only `df_sales_customers_duping_names`.\n",
    "\n",
    "Let's join w/ `df_babyNames_single_gender_names` to see if there are any duping names with only one gender"
   ]
  },
  {
   "cell_type": "code",
   "execution_count": 0,
   "metadata": {
    "application/vnd.databricks.v1+cell": {
     "cellMetadata": {
      "byteLimit": 2048000,
      "rowLimit": 10000
     },
     "inputWidgets": {},
     "nuid": "0bdae34a-53b6-496e-b2ae-1549654e48f4",
     "showTitle": false,
     "tableResultSettingsMap": {},
     "title": ""
    }
   },
   "outputs": [],
   "source": [
    "\n",
    "df_sales_customers_duping_names_corrected = (\n",
    "    df_sales_customers_duping_names\n",
    "        .join(df_babyNames_single_gender_names, on = \"first_name\", how = \"left\")\n",
    "        .withColumn(\"gender_final\", F.coalesce(\n",
    "            F.col(\"gender_correct\"), #1st - `gender_correct` from `df_babyNames_single_gender_names`\n",
    "            F.col(\"gender\")          #2nd - `gender` from `df_sales_customers_duping_names`\n",
    "            ))\n",
    "        .drop(\"gender_correct\", \"gender\") #dropping original gender fields\n",
    "        .withColumnRenamed(\"gender_final\", \"gender\")     \n",
    ")\n",
    "\n",
    "df_sales_customers_duping_names_corrected.limit(3).toPandas()"
   ]
  },
  {
   "cell_type": "markdown",
   "metadata": {
    "application/vnd.databricks.v1+cell": {
     "cellMetadata": {
      "byteLimit": 2048000,
      "rowLimit": 10000
     },
     "inputWidgets": {},
     "nuid": "585556fd-dc82-4a8e-adea-8cf96db1b869",
     "showTitle": false,
     "tableResultSettingsMap": {},
     "title": ""
    }
   },
   "source": [
    "Now that we have `df_sales_customers_duping_names_corrected` and `df_sales_customers_nonDuping_names`, we can combine them into the one table"
   ]
  },
  {
   "cell_type": "code",
   "execution_count": 0,
   "metadata": {
    "application/vnd.databricks.v1+cell": {
     "cellMetadata": {
      "byteLimit": 2048000,
      "rowLimit": 10000
     },
     "inputWidgets": {},
     "nuid": "be03b003-23b1-4932-b106-72a2f220bf8b",
     "showTitle": false,
     "tableResultSettingsMap": {},
     "title": ""
    }
   },
   "outputs": [],
   "source": [
    "df_sales_customers_correctGender = (\n",
    "    df_sales_customers_nonDuping_names\n",
    "        #using `unionByName` to avoid field disordering issue\n",
    "        .unionByName(df_sales_customers_duping_names_corrected) \n",
    ")\n",
    "\n",
    "# quick check on count\n",
    "print(\n",
    "    f\"fixed:{df_sales_customers_correctGender.count()}, \" #300\n",
    "    f\"Non-dupling names:{df_sales_customers_nonDuping_names.count()}, \" #120\n",
    "    f\"Duping names:{df_sales_customers_duping_names.count()}\" #180\n",
    ")"
   ]
  },
  {
   "cell_type": "markdown",
   "metadata": {
    "application/vnd.databricks.v1+cell": {
     "cellMetadata": {},
     "inputWidgets": {},
     "nuid": "f2aab743-569f-4cf1-91f3-55f799b6087b",
     "showTitle": false,
     "tableResultSettingsMap": {},
     "title": ""
    }
   },
   "source": [
    "### `Step 2.2`: Data Quality Issue - `country` & `state`"
   ]
  },
  {
   "cell_type": "markdown",
   "metadata": {
    "application/vnd.databricks.v1+cell": {
     "cellMetadata": {
      "byteLimit": 2048000,
      "rowLimit": 10000
     },
     "inputWidgets": {},
     "nuid": "ffb20604-261d-441d-b16f-aafb88720f42",
     "showTitle": false,
     "tableResultSettingsMap": {},
     "title": ""
    }
   },
   "source": [
    "Also, in `01_bakehouse_exloratory_analysis.ipynb` I noticed cities are improperly mapped to countries.\n",
    "\n",
    "Some examples:"
   ]
  },
  {
   "cell_type": "code",
   "execution_count": 0,
   "metadata": {
    "application/vnd.databricks.v1+cell": {
     "cellMetadata": {
      "byteLimit": 2048000,
      "rowLimit": 10000
     },
     "inputWidgets": {},
     "nuid": "6c5cabfc-b96c-4db9-9752-c2cf6aa8bdfc",
     "showTitle": false,
     "tableResultSettingsMap": {},
     "title": ""
    }
   },
   "outputs": [],
   "source": [
    "(\n",
    "    df_sales_customers_correctGender\n",
    "        .where(\"state IN ('Nevada', 'Kansas', 'Washington')\")\n",
    "        .select(\"city\", \"state\", \"country\")\n",
    "        .distinct()\n",
    "        .orderBy(\"country\", \"state\")\n",
    "        .show()\n",
    ")"
   ]
  },
  {
   "cell_type": "markdown",
   "metadata": {
    "application/vnd.databricks.v1+cell": {
     "cellMetadata": {
      "byteLimit": 2048000,
      "rowLimit": 10000
     },
     "inputWidgets": {},
     "nuid": "3d3ddb3c-187e-438e-9d0e-ca47884a80cd",
     "showTitle": false,
     "tableResultSettingsMap": {},
     "title": ""
    }
   },
   "source": [
    "Another spotted issue: states are inconsistet, can be full ('Alabama') and abbreviation ('AL')"
   ]
  },
  {
   "cell_type": "code",
   "execution_count": 0,
   "metadata": {
    "application/vnd.databricks.v1+cell": {
     "cellMetadata": {
      "byteLimit": 2048000,
      "rowLimit": 10000
     },
     "inputWidgets": {},
     "nuid": "c3944ae4-f9b4-4acf-aff9-96df550514ea",
     "showTitle": false,
     "tableResultSettingsMap": {},
     "title": ""
    }
   },
   "outputs": [],
   "source": [
    "df_sales_customers_correctGender.select(\"state\").limit(10).orderBy(\"state\").toPandas()"
   ]
  },
  {
   "cell_type": "markdown",
   "metadata": {
    "application/vnd.databricks.v1+cell": {
     "cellMetadata": {
      "byteLimit": 2048000,
      "rowLimit": 10000
     },
     "inputWidgets": {},
     "nuid": "a5362d65-cdbd-4838-b10c-185bf5dc44b8",
     "showTitle": false,
     "tableResultSettingsMap": {},
     "title": ""
    }
   },
   "source": [
    "This means, we need need to do some extra work to:\n",
    "1. get city-country mapping right\n",
    "2. standarzie state names\n",
    "\n",
    "Let's import open-source data from `World Cities Database`:\n",
    "* https://simplemaps.com/data/world-cities\n",
    "* https://simplemaps.com/data/us-cities"
   ]
  },
  {
   "cell_type": "code",
   "execution_count": 0,
   "metadata": {
    "application/vnd.databricks.v1+cell": {
     "cellMetadata": {
      "byteLimit": 2048000,
      "rowLimit": 10000
     },
     "inputWidgets": {},
     "nuid": "ad77f3a7-bf60-4f90-a20d-9918e856791a",
     "showTitle": false,
     "tableResultSettingsMap": {},
     "title": ""
    }
   },
   "outputs": [],
   "source": [
    "worldCities_file_path = \"dbfs:/Volumes/workspace/default/testvolume/worldcities.csv\"\n",
    "\n",
    "df_worldCities = (\n",
    "    spark.read.csv(\n",
    "        worldCities_file_path,\n",
    "        sep = \",\",\n",
    "        header=True\n",
    "    ) \n",
    "    .select(\"city\", \"country\") \n",
    "    .withColumnRenamed(\"country\", \"country_correct\") \n",
    "    .withColumn(\"country_correct\",\n",
    "                 F.when(F.col(\"country_correct\") == \"United States\", \"USA\")\n",
    "                 .otherwise(F.col(\"country_correct\"))) \n",
    "    .dropDuplicates([\"city\", \"country_correct\"])\n",
    ")\n",
    "\n",
    "df_worldCities.limit(3).show()"
   ]
  },
  {
   "cell_type": "code",
   "execution_count": 0,
   "metadata": {
    "application/vnd.databricks.v1+cell": {
     "cellMetadata": {
      "byteLimit": 2048000,
      "rowLimit": 10000
     },
     "inputWidgets": {},
     "nuid": "1dcf522d-3cc8-41fa-8d22-b86999236825",
     "showTitle": false,
     "tableResultSettingsMap": {},
     "title": ""
    }
   },
   "outputs": [],
   "source": [
    "usCities_file_path = \"/Volumes/workspace/default/testvolume/uscities.csv\"\n",
    "                           #/Volumes/workspace/default/testvolume/us-cities-demographics.csv\n",
    "\n",
    "df_usStates = (\n",
    "        spark.read.csv(\n",
    "        usCities_file_path,\n",
    "        sep = \",\",\n",
    "        header=True\n",
    "    )\n",
    "    .select(\"state_name\", \"state_id\")\n",
    "    .distinct()\n",
    "    .withColumn(\"us_country_correct\", F.lit(\"USA\"))\n",
    "    .withColumn(\"us_coninent_correct\", F.lit(\"North America\"))\n",
    "    .withColumnRenamed(\"state_name\", \"state_correct\")\n",
    "    .withColumnRenamed(\"state_id\", \"state_abbreviation\")\n",
    "    .dropDuplicates([\"state_correct\", \"state_abbreviation\", \"us_country_correct\", \"us_coninent_correct\"])\n",
    ")\n",
    "df_usStates.limit(10).toPandas()\n",
    "#df_usCities.limit(10).show()"
   ]
  },
  {
   "cell_type": "markdown",
   "metadata": {
    "application/vnd.databricks.v1+cell": {
     "cellMetadata": {
      "byteLimit": 2048000,
      "rowLimit": 10000
     },
     "inputWidgets": {},
     "nuid": "6f30351b-b0cf-4d0f-9463-c90d3b6aec1c",
     "showTitle": false,
     "tableResultSettingsMap": {},
     "title": ""
    }
   },
   "source": [
    "Let's join w/ `df_usStates` & `df_worldCities` to get the correct country and fix states"
   ]
  },
  {
   "cell_type": "code",
   "execution_count": 0,
   "metadata": {
    "application/vnd.databricks.v1+cell": {
     "cellMetadata": {
      "byteLimit": 2048000,
      "rowLimit": 10000
     },
     "inputWidgets": {},
     "nuid": "0098e82e-259f-4a88-91d0-5e9892010cb1",
     "showTitle": false,
     "tableResultSettingsMap": {},
     "title": ""
    }
   },
   "outputs": [],
   "source": [
    "df_sales_customers_correctGender_correctCountry = (\n",
    "    df_sales_customers_correctGender\n",
    "        .join(\n",
    "            df_usStates,\n",
    "        # because `df_sales_customers_correctGender.state` contains both full and short state names, we need to join on both\n",
    "            (df_sales_customers_correctGender.state == df_usStates.state_correct) | \n",
    "            (df_sales_customers_correctGender.state == df_usStates.state_abbreviation),\n",
    "            \"left\")\n",
    "        .join(df_worldCities, on=\"city\", how=\"left\")\n",
    "        .withColumn(\"country\", F.coalesce(\n",
    "            F.col(\"us_country_correct\"), # if `us_country_correct` is not null, use it ('USA' only)\n",
    "            F.col(\"country_correct\"), # use `country_correct` but only after us_country_correct\n",
    "            F.col(\"country\")\n",
    "            ))\n",
    "        .withColumn(\"continent\", F.coalesce(\n",
    "            F.col(\"us_coninent_correct\"), # if not null, use it ('North America' only)\n",
    "            F.col(\"continent\")\n",
    "            ))\n",
    "        .withColumn(\"state\", F.coalesce(\n",
    "            F.col(\"state_correct\"), #if not null, use `state_correct` from `df_usStates`\n",
    "            F.col(\"state\") #otherwise, take `state` from `df_sales_customers_correctGender`\n",
    "            ))\n",
    "        .drop(\"us_country_correct\", \"country_correct\", \"us_coninent_correct\", \"state_correct\", \"state_abbreviation\")\n",
    ")\n",
    "\n",
    "#df_sales_customers_correctGender_correctCountry.where(\"gender != gender_correct\").show(3)\n",
    "df_sales_customers_correctGender_correctCountry.where('customerID = 2000269').limit(10).toPandas()#show()"
   ]
  },
  {
   "cell_type": "markdown",
   "metadata": {
    "application/vnd.databricks.v1+cell": {
     "cellMetadata": {
      "byteLimit": 2048000,
      "rowLimit": 10000
     },
     "inputWidgets": {},
     "nuid": "0542778b-dfc6-4413-883e-d485c41c8f7e",
     "showTitle": false,
     "tableResultSettingsMap": {},
     "title": ""
    }
   },
   "source": [
    "### `Step 3`: Last Transfromations"
   ]
  },
  {
   "cell_type": "code",
   "execution_count": 0,
   "metadata": {
    "application/vnd.databricks.v1+cell": {
     "cellMetadata": {
      "batchId": -7138851890700972,
      "byteLimit": 2048000,
      "rowLimit": 10000
     },
     "inputWidgets": {},
     "nuid": "c66c2b92-5000-4184-8839-a69e42145ed3",
     "showTitle": false,
     "tableResultSettingsMap": {},
     "title": ""
    }
   },
   "outputs": [],
   "source": [
    "# Selecting Relevant Fields\n",
    "selectedColumns = [\n",
    "        \"customerID\", \"first_name\", \"last_name\", \"email_address\",\n",
    "        \"gender\", \"city\", \"state\", \"country\", \"continent\"\n",
    "]\n",
    "\n",
    "df_sales_customers_selectedColumns = df_sales_customers_correctGender_correctCountry.select(selectedColumns)"
   ]
  },
  {
   "cell_type": "code",
   "execution_count": 0,
   "metadata": {
    "application/vnd.databricks.v1+cell": {
     "cellMetadata": {
      "batchId": -7138851890700972,
      "byteLimit": 2048000,
      "rowLimit": 10000
     },
     "inputWidgets": {},
     "nuid": "fed4b456-c239-4d2f-acd8-fd6b3712c25d",
     "showTitle": false,
     "tableResultSettingsMap": {},
     "title": ""
    }
   },
   "outputs": [],
   "source": [
    "# distinct values per each column: 300 rows\n",
    "df_sales_customers_selectedColumns.select([F.countDistinct(F.col(c)).alias(c) for c in df_sales_customers_selectedColumns.columns]).toPandas()"
   ]
  },
  {
   "cell_type": "code",
   "execution_count": 0,
   "metadata": {
    "application/vnd.databricks.v1+cell": {
     "cellMetadata": {
      "batchId": -7138851890700972,
      "byteLimit": 2048000,
      "rowLimit": 10000
     },
     "inputWidgets": {},
     "nuid": "d2b48dfb-ff58-462f-910e-4a24fb8e422e",
     "showTitle": false,
     "tableResultSettingsMap": {},
     "title": ""
    }
   },
   "outputs": [],
   "source": [
    "df_sales_customers_selectedColumns.select([F.count(F.when(F.col(c).isNull(), c)).alias(c) for c in df_sales_customers_selectedColumns.columns]).toPandas()"
   ]
  },
  {
   "cell_type": "code",
   "execution_count": 0,
   "metadata": {
    "application/vnd.databricks.v1+cell": {
     "cellMetadata": {
      "batchId": -7138851890700972,
      "byteLimit": 2048000,
      "rowLimit": 10000
     },
     "inputWidgets": {},
     "nuid": "c284db1c-124c-4c79-8304-96da71b89d81",
     "showTitle": false,
     "tableResultSettingsMap": {},
     "title": ""
    }
   },
   "outputs": [],
   "source": [
    "#capitalize\n",
    "df_sales_customers_selectedColumns_capitalized = (\n",
    "    df_sales_customers_selectedColumns\n",
    "        .withColumn(\"first_name\", F.initcap(F.trim(\"first_name\"))) \n",
    "        .withColumn(\"last_name\", F.initcap(F.trim(\"last_name\"))) \n",
    "        .withColumn(\"city\", F.initcap(F.trim(\"city\"))) \n",
    "        .withColumn(\"country\",\n",
    "                    F.when(F.col(\"country\") == 'USA', F.lit(\"USA\"))\n",
    "                    .otherwise(F.initcap(F.trim(\"country\")))) \n",
    "        .withColumn(\"gender\", F.initcap(F.trim(\"gender\")))\n",
    ")"
   ]
  },
  {
   "cell_type": "code",
   "execution_count": 0,
   "metadata": {
    "application/vnd.databricks.v1+cell": {
     "cellMetadata": {
      "batchId": -7138851890700972,
      "byteLimit": 2048000,
      "rowLimit": 10000
     },
     "inputWidgets": {},
     "nuid": "527607e3-8949-473f-b4b0-a9a93c072450",
     "showTitle": false,
     "tableResultSettingsMap": {},
     "title": ""
    }
   },
   "outputs": [],
   "source": [
    "df_sales_customers_selectedColumns_capitalized.limit(10).toPandas() "
   ]
  },
  {
   "cell_type": "code",
   "execution_count": 0,
   "metadata": {
    "application/vnd.databricks.v1+cell": {
     "cellMetadata": {
      "batchId": -7138851890700972,
      "byteLimit": 2048000,
      "rowLimit": 10000
     },
     "inputWidgets": {},
     "nuid": "eea63125-224b-483c-bc29-a2b1a9dbf7f9",
     "showTitle": false,
     "tableResultSettingsMap": {},
     "title": ""
    }
   },
   "outputs": [],
   "source": [
    "df_sales_customers_selectedColumns_capitalized = (\n",
    "    df_sales_customers_selectedColumns_capitalized\n",
    "        .withColumn(\"customer_key\", F.monotonically_increasing_id())\n",
    "        .select(\"cusotmer_key\",\n",
    "                \"customerID\",\n",
    "                \"first_name\",\n",
    "                \"last_name\",\n",
    "                \"\")\n",
    ")"
   ]
  },
  {
   "cell_type": "code",
   "execution_count": 0,
   "metadata": {
    "application/vnd.databricks.v1+cell": {
     "cellMetadata": {
      "batchId": -7138851890700972,
      "byteLimit": 2048000,
      "rowLimit": 10000
     },
     "inputWidgets": {},
     "nuid": "7727186c-a627-4842-bba6-01257f26833c",
     "showTitle": false,
     "tableResultSettingsMap": {},
     "title": ""
    }
   },
   "outputs": [],
   "source": [
    "\n",
    "df_sales_customers_correctGender_correctCountry.select('state').distinct().orderBy('state').show()"
   ]
  }
 ],
 "metadata": {
  "application/vnd.databricks.v1+notebook": {
   "computePreferences": null,
   "dashboards": [],
   "environmentMetadata": {
    "base_environment": "",
    "environment_version": "2"
   },
   "inputWidgetPreferences": null,
   "language": "python",
   "notebookMetadata": {
    "pythonIndentUnit": 4
   },
   "notebookName": "02-1_dim_customer_etl",
   "widgets": {}
  },
  "language_info": {
   "name": "python"
  }
 },
 "nbformat": 4,
 "nbformat_minor": 0
}
