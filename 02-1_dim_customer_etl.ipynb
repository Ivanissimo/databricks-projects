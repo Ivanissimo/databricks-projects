{
 "cells": [
  {
   "cell_type": "code",
   "execution_count": 0,
   "metadata": {
    "application/vnd.databricks.v1+cell": {
     "cellMetadata": {
      "byteLimit": 2048000,
      "rowLimit": 10000
     },
     "inputWidgets": {},
     "nuid": "92a5fd1e-b219-414c-bb01-a8c7962beb09",
     "showTitle": false,
     "tableResultSettingsMap": {},
     "title": ""
    }
   },
   "outputs": [],
   "source": [
    "import pyspark.sql.functions as F\n",
    "import pyspark.sql.types as T"
   ]
  },
  {
   "cell_type": "markdown",
   "metadata": {
    "application/vnd.databricks.v1+cell": {
     "cellMetadata": {
      "byteLimit": 2048000,
      "rowLimit": 10000
     },
     "inputWidgets": {},
     "nuid": "4c88b25b-81ae-4c71-831c-4ccb78572f3c",
     "showTitle": false,
     "tableResultSettingsMap": {},
     "title": ""
    }
   },
   "source": [
    "### Step 1: Quick Analysis"
   ]
  },
  {
   "cell_type": "code",
   "execution_count": 0,
   "metadata": {
    "application/vnd.databricks.v1+cell": {
     "cellMetadata": {
      "byteLimit": 2048000,
      "rowLimit": 10000
     },
     "inputWidgets": {},
     "nuid": "2db50309-4bfe-4be0-85dd-7275ef133964",
     "showTitle": false,
     "tableResultSettingsMap": {},
     "title": ""
    }
   },
   "outputs": [],
   "source": [
    "df_sales_customers = spark.read.table(\"samples.bakehouse.sales_customers\")\n",
    "df_sales_customers.printSchema()\n",
    "df_sales_customers.limit(3).toPandas()"
   ]
  },
  {
   "cell_type": "code",
   "execution_count": 0,
   "metadata": {
    "application/vnd.databricks.v1+cell": {
     "cellMetadata": {
      "byteLimit": 2048000,
      "rowLimit": 10000
     },
     "inputWidgets": {},
     "nuid": "36e9ac9c-cdb5-4c34-9dd1-754b40e4a5ac",
     "showTitle": false,
     "tableResultSettingsMap": {},
     "title": ""
    }
   },
   "outputs": [],
   "source": [
    "# distinct values per each column: 300 rows\n",
    "df_sales_customers.select([F.countDistinct(F.col(c)).alias(c) for c in df_sales_customers.columns]).show()\n",
    "\n",
    "# count NULLs per each column: no NULLs, this is nice\n",
    "df_sales_customers.select([F.count(F.when(F.col(c).isNull(), c)).alias(c) for c in df_sales_customers.columns]).show()"
   ]
  },
  {
   "cell_type": "markdown",
   "metadata": {
    "application/vnd.databricks.v1+cell": {
     "cellMetadata": {},
     "inputWidgets": {},
     "nuid": "c7f65caf-bb5a-4989-886d-ccec57ff66b4",
     "showTitle": false,
     "tableResultSettingsMap": {},
     "title": ""
    }
   },
   "source": [
    "### Step 2: Data Quality Issues Analysis"
   ]
  },
  {
   "cell_type": "markdown",
   "metadata": {
    "application/vnd.databricks.v1+cell": {
     "cellMetadata": {
      "byteLimit": 2048000,
      "rowLimit": 10000
     },
     "inputWidgets": {},
     "nuid": "3f732465-297d-4ce5-99de-3e21b0ce31e9",
     "showTitle": false,
     "tableResultSettingsMap": {},
     "title": ""
    }
   },
   "source": [
    "In `01_bakehouse_exloratory_analysis` I noticed 'Matthew' can be female.\n",
    "\n",
    "Let's create a view and quickly see if we have other issues like names with both genders\n"
   ]
  },
  {
   "cell_type": "code",
   "execution_count": 0,
   "metadata": {
    "application/vnd.databricks.v1+cell": {
     "cellMetadata": {
      "byteLimit": 2048000,
      "rowLimit": 10000
     },
     "inputWidgets": {},
     "nuid": "1ac90f73-0a87-4ea7-a068-ea75625b88b4",
     "showTitle": false,
     "tableResultSettingsMap": {},
     "title": ""
    }
   },
   "outputs": [],
   "source": [
    "df_sales_customers.createOrReplaceTempView(\"vw_sales_customers\")\n"
   ]
  },
  {
   "cell_type": "code",
   "execution_count": 0,
   "metadata": {
    "application/vnd.databricks.v1+cell": {
     "cellMetadata": {
      "byteLimit": 2048000,
      "rowLimit": 10000
     },
     "inputWidgets": {},
     "nuid": "3a175537-7c36-4266-bb26-e904964755fe",
     "showTitle": false,
     "tableResultSettingsMap": {},
     "title": ""
    }
   },
   "outputs": [],
   "source": [
    "%%sql\n",
    "WITH CTE_DISTINCT_first_name_gender AS (\n",
    "    SELECT DISTINCT\n",
    "         first_name\n",
    "        ,gender\n",
    "    FROM vw_sales_customers\n",
    ")\n",
    "\n",
    ",CTE_first_name_with_both_genders AS (\n",
    "    SELECT \n",
    "         first_name\n",
    "        ,COUNT(1) AS count_first_name\n",
    "    FROM CTE_DISTINCT_first_name_gender\n",
    "    GROUP BY \n",
    "        first_name\n",
    "    HAVING \n",
    "        COUNT(1) > 1\n",
    ")\n",
    "\n",
    "SELECT DISTINCT \n",
    "     vw.first_name\n",
    "    ,vw.gender\n",
    "    ,cte.count_first_name\n",
    "FROM vw_sales_customers vw\n",
    "INNER JOIN CTE_first_name_with_both_genders cte -- INNER JOIN to filter only on duping names with both genders\n",
    "    ON vw.first_name = cte.first_name \n",
    "ORDER BY \n",
    "     cte.count_first_name DESC\n",
    "    ,vw.first_name\n",
    "    ,vw.gender\n"
   ]
  },
  {
   "cell_type": "markdown",
   "metadata": {
    "application/vnd.databricks.v1+cell": {
     "cellMetadata": {
      "byteLimit": 2048000,
      "rowLimit": 10000
     },
     "inputWidgets": {},
     "nuid": "c1a09512-973f-462d-b7aa-9e62b019e985",
     "showTitle": false,
     "tableResultSettingsMap": {},
     "title": ""
    }
   },
   "source": [
    "There ☝️ are `74/2 == 37` names with both genders.\n",
    "This means we need to do some extra work to get the gender right.\n",
    "\n",
    "Let's import open-source baby-names data from  official website of the US government: https://www.ssa.gov/oact/babynames/limits.html"
   ]
  },
  {
   "cell_type": "code",
   "execution_count": 0,
   "metadata": {
    "application/vnd.databricks.v1+cell": {
     "cellMetadata": {
      "byteLimit": 2048000,
      "rowLimit": 10000
     },
     "inputWidgets": {},
     "nuid": "6e8d5460-f1de-46cb-9335-c9f23c58f28b",
     "showTitle": false,
     "tableResultSettingsMap": {},
     "title": ""
    }
   },
   "outputs": [],
   "source": [
    "babyNames_file_path = \"dbfs:/Volumes/workspace/default/testvolume/US_SSA_Baby_Names_2024.txt\"\n",
    "\n",
    "# txt file has no header, thus I will create a custom schema for the dataframe\n",
    "# plus, having a predefined schema saves a lot of time for Spark to infer the schema\n",
    "babyNamesSchema = T.StructType([\n",
    "    T.StructField(\"name\",   T.StringType(), True),\n",
    "    T.StructField(\"gender\", T.StringType(), True),\n",
    "    T.StructField(\"count\",  T.IntegerType(), True)\n",
    "])\n",
    "\n",
    "df_babyNames_gender = spark.read.csv(\n",
    "    babyNames_file_path,\n",
    "    sep = \",\",\n",
    "    schema = babyNamesSchema\n",
    ").select(\"name\", \"gender\")\n",
    "\n",
    "df_babyNames_gender.limit(5).toPandas()"
   ]
  },
  {
   "cell_type": "markdown",
   "metadata": {
    "application/vnd.databricks.v1+cell": {
     "cellMetadata": {
      "byteLimit": 2048000,
      "rowLimit": 10000
     },
     "inputWidgets": {},
     "nuid": "ffb20604-261d-441d-b16f-aafb88720f42",
     "showTitle": false,
     "tableResultSettingsMap": {},
     "title": ""
    }
   },
   "source": [
    "Also, in `01_bakehouse_exloratory_analysis` I noticed cities are improperly mapped to countries.\n",
    "\n",
    "Some examples:"
   ]
  },
  {
   "cell_type": "code",
   "execution_count": 0,
   "metadata": {
    "application/vnd.databricks.v1+cell": {
     "cellMetadata": {
      "byteLimit": 2048000,
      "rowLimit": 10000
     },
     "inputWidgets": {},
     "nuid": "6c5cabfc-b96c-4db9-9752-c2cf6aa8bdfc",
     "showTitle": false,
     "tableResultSettingsMap": {},
     "title": ""
    }
   },
   "outputs": [],
   "source": [
    "(\n",
    "    df_sales_customers\n",
    "        .where(\"state IN ('Nevada', 'Kansas', 'Washington')\")\n",
    "        .select(\"city\", \"state\", \"country\")\n",
    "        .distinct()\n",
    "        .orderBy(\"country\", \"state\")\n",
    "        .show()\n",
    ")"
   ]
  },
  {
   "cell_type": "markdown",
   "metadata": {
    "application/vnd.databricks.v1+cell": {
     "cellMetadata": {},
     "inputWidgets": {},
     "nuid": "a5362d65-cdbd-4838-b10c-185bf5dc44b8",
     "showTitle": false,
     "tableResultSettingsMap": {},
     "title": ""
    }
   },
   "source": [
    "This means, we need need to do some extra work to get city-country mapping right.\n",
    "\n",
    "Let's import open-source data from `World Cities Database`: https://simplemaps.com/data/world-cities"
   ]
  },
  {
   "cell_type": "code",
   "execution_count": 0,
   "metadata": {
    "application/vnd.databricks.v1+cell": {
     "cellMetadata": {
      "byteLimit": 2048000,
      "rowLimit": 10000
     },
     "inputWidgets": {},
     "nuid": "ad77f3a7-bf60-4f90-a20d-9918e856791a",
     "showTitle": false,
     "tableResultSettingsMap": {},
     "title": ""
    }
   },
   "outputs": [],
   "source": [
    "worldCities_file_path = \"dbfs:/Volumes/workspace/default/testvolume/worldcities.csv\"\n",
    "\n",
    "df_worldCities = spark.read.csv(\n",
    "    worldCities_file_path,\n",
    "    sep = \",\",\n",
    "    header=True\n",
    ").select(\"city\", \"city_ascii\", \"country\")\n",
    "\n",
    "df_worldCities.limit(3).show()"
   ]
  },
  {
   "cell_type": "markdown",
   "metadata": {
    "application/vnd.databricks.v1+cell": {
     "cellMetadata": {
      "byteLimit": 2048000,
      "rowLimit": 10000
     },
     "inputWidgets": {},
     "nuid": "0542778b-dfc6-4413-883e-d485c41c8f7e",
     "showTitle": false,
     "tableResultSettingsMap": {},
     "title": ""
    }
   },
   "source": [
    "### Step 3: ETL"
   ]
  },
  {
   "cell_type": "code",
   "execution_count": 0,
   "metadata": {
    "application/vnd.databricks.v1+cell": {
     "cellMetadata": {
      "byteLimit": 2048000,
      "rowLimit": 10000
     },
     "inputWidgets": {},
     "nuid": "c66c2b92-5000-4184-8839-a69e42145ed3",
     "showTitle": false,
     "tableResultSettingsMap": {},
     "title": ""
    }
   },
   "outputs": [],
   "source": [
    "# Selecting Relevant Fields\n",
    "selectedColumns = [\n",
    "        \"customerID\", \"first_name\", \"last_name\",\n",
    "        \"city\", \"state\", \"country\", \n",
    "        \"continent\", \"gender\"\n",
    "]\n",
    "\n",
    "df_sales_customers_selectedColumns = df_sales_customers.select(selectedColumns)"
   ]
  },
  {
   "cell_type": "code",
   "execution_count": 0,
   "metadata": {
    "application/vnd.databricks.v1+cell": {
     "cellMetadata": {
      "byteLimit": 2048000,
      "rowLimit": 10000
     },
     "inputWidgets": {},
     "nuid": "0356b622-4797-4eab-ba14-5183cbef45f3",
     "showTitle": false,
     "tableResultSettingsMap": {},
     "title": ""
    }
   },
   "outputs": [],
   "source": [
    "# let's join w/ `df_babyNames_gender` to get the correct gender\n",
    "# let's join w/ `df_worldCities` to get the correct country\n",
    "\n",
    "df_sales_customers_correctGender_correctCountry = (\n",
    "    df_sales_customers_selectedColumns\n",
    "        .join(df_babyNames_gender, on=\"first_name\", how=\"left\")\n",
    "        .join(df_worldCities, on=\"city\", how=\"left\")\n",
    ")\n",
    "\n",
    "df_sales_customers_correctGender_correctCountry.show(3)"
   ]
  }
 ],
 "metadata": {
  "application/vnd.databricks.v1+notebook": {
   "computePreferences": null,
   "dashboards": [],
   "environmentMetadata": {
    "base_environment": "",
    "environment_version": "2"
   },
   "inputWidgetPreferences": null,
   "language": "python",
   "notebookMetadata": {
    "pythonIndentUnit": 4
   },
   "notebookName": "02-1_dim_customer_etl",
   "widgets": {}
  },
  "language_info": {
   "name": "python"
  }
 },
 "nbformat": 4,
 "nbformat_minor": 0
}
