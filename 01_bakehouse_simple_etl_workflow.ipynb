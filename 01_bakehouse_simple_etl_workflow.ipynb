{
 "cells": [
  {
   "cell_type": "markdown",
   "metadata": {
    "application/vnd.databricks.v1+cell": {
     "cellMetadata": {
      "byteLimit": 2048000,
      "rowLimit": 10000
     },
     "inputWidgets": {},
     "nuid": "cbd1e4fa-254d-4ede-8e42-f799f2bd4969",
     "showTitle": false,
     "tableResultSettingsMap": {},
     "title": ""
    }
   },
   "source": [
    "The purpose of this notebook is to practice most common data exloration techniques on the `bakehouse` sample data"
   ]
  },
  {
   "cell_type": "markdown",
   "metadata": {
    "application/vnd.databricks.v1+cell": {
     "cellMetadata": {
      "byteLimit": 2048000,
      "rowLimit": 10000
     },
     "inputWidgets": {},
     "nuid": "ff1e9ae5-ec56-4d5c-86b3-a79a90f694cc",
     "showTitle": false,
     "tableResultSettingsMap": {},
     "title": ""
    }
   },
   "source": [
    "1: sales_customers"
   ]
  },
  {
   "cell_type": "code",
   "execution_count": 0,
   "metadata": {
    "application/vnd.databricks.v1+cell": {
     "cellMetadata": {
      "byteLimit": 2048000,
      "rowLimit": 10000
     },
     "inputWidgets": {},
     "nuid": "88825e74-dca0-469e-8936-9e0a7e090d7e",
     "showTitle": false,
     "tableResultSettingsMap": {},
     "title": ""
    }
   },
   "outputs": [],
   "source": [
    "import plotly.express as px"
   ]
  },
  {
   "cell_type": "code",
   "execution_count": 0,
   "metadata": {
    "application/vnd.databricks.v1+cell": {
     "cellMetadata": {
      "byteLimit": 2048000,
      "rowLimit": 10000
     },
     "inputWidgets": {},
     "nuid": "c15836eb-5046-48d2-adba-ae0dd668f787",
     "showTitle": false,
     "tableResultSettingsMap": {},
     "title": ""
    }
   },
   "outputs": [],
   "source": [
    "#Loading data\n",
    "spark.sql(\"DESCRIBE DETAIL samples.bakehouse.sales_customers\").select(\"format\", \"numFiles\", \"location\").collect()\n",
    "#format='delta' means it's a delta table"
   ]
  },
  {
   "cell_type": "code",
   "execution_count": 0,
   "metadata": {
    "application/vnd.databricks.v1+cell": {
     "cellMetadata": {
      "byteLimit": 2048000,
      "rowLimit": 10000
     },
     "inputWidgets": {},
     "nuid": "cad78d38-2244-4554-bdee-8545f437e9e4",
     "showTitle": false,
     "tableResultSettingsMap": {},
     "title": ""
    }
   },
   "outputs": [],
   "source": [
    "df_sales_customers = spark.read.table(\"samples.bakehouse.sales_customers\") #using read.table as it's a delta table"
   ]
  },
  {
   "cell_type": "code",
   "execution_count": 0,
   "metadata": {
    "application/vnd.databricks.v1+cell": {
     "cellMetadata": {
      "byteLimit": 2048000,
      "rowLimit": 10000
     },
     "inputWidgets": {},
     "nuid": "7b8c4afe-1b45-416b-b5c4-3b2daad6ff59",
     "showTitle": false,
     "tableResultSettingsMap": {},
     "title": ""
    }
   },
   "outputs": [],
   "source": [
    "# Printing schema and 3 rows in a Pandas-style DataFrame\n",
    "df_sales_customers.printSchema()\n",
    "df_sales_customers.limit(3).toPandas()"
   ]
  },
  {
   "cell_type": "code",
   "execution_count": 0,
   "metadata": {
    "application/vnd.databricks.v1+cell": {
     "cellMetadata": {
      "byteLimit": 2048000,
      "rowLimit": 10000
     },
     "inputWidgets": {},
     "nuid": "ac421b27-a41f-4220-bcca-2cbe4b9df0dc",
     "showTitle": false,
     "tableResultSettingsMap": {},
     "title": ""
    }
   },
   "outputs": [],
   "source": [
    "# Let's see how many rows we have per gender/continen/country/state/city granularity\n",
    "df_sales_customers.groupBy(\"gender\",\"continent\",\"country\",\"state\",\"city\").count().orderBy(\"count\",ascending=False).show(3)\n",
    "\n",
    "# Wow, just one customer per one city, that's strange\n",
    "df_sales_customers.filter(df_sales_customers[\"city\"] == \"Jamesville\").toPandas()"
   ]
  },
  {
   "cell_type": "code",
   "execution_count": 0,
   "metadata": {
    "application/vnd.databricks.v1+cell": {
     "cellMetadata": {
      "byteLimit": 2048000,
      "rowLimit": 10000
     },
     "inputWidgets": {},
     "nuid": "08a1c257-339b-4ccd-9684-254a76b82eb0",
     "showTitle": false,
     "tableResultSettingsMap": {},
     "title": ""
    }
   },
   "outputs": [],
   "source": [
    "# Alright, let's see how many rows we have per state granularity, w/o city\n",
    "df_sales_customers.groupBy(\"gender\",\"continent\",\"country\",\"state\").count().orderBy(\"count\",ascending=False).show(3)"
   ]
  },
  {
   "cell_type": "code",
   "execution_count": 0,
   "metadata": {
    "application/vnd.databricks.v1+cell": {
     "cellMetadata": {
      "byteLimit": 2048000,
      "rowLimit": 10000
     },
     "inputWidgets": {},
     "nuid": "1ff645c3-c67d-42c9-ad04-1a2e654a784c",
     "showTitle": false,
     "tableResultSettingsMap": {},
     "title": ""
    }
   },
   "outputs": [],
   "source": [
    "#Let's see male/female count per country in a table form\n",
    "df_sales_customers_grouped = df_sales_customers.groupBy(\"gender\",\"country\").count()\n",
    "df_sales_customers_grouped_toPandas = df_sales_customers_grouped.orderBy(\"count\", ascending=False).toPandas()\n",
    "df_sales_customers_grouped_toPandas"
   ]
  },
  {
   "cell_type": "code",
   "execution_count": 0,
   "metadata": {
    "application/vnd.databricks.v1+cell": {
     "cellMetadata": {
      "byteLimit": 2048000,
      "rowLimit": 10000
     },
     "inputWidgets": {},
     "nuid": "71436f29-a937-41a2-a16f-1ae8d45f7e43",
     "showTitle": false,
     "tableResultSettingsMap": {},
     "title": ""
    }
   },
   "outputs": [],
   "source": [
    "#Let's visualise the same data in a stacked bar chart\n",
    "counties_gender_barchart = px.bar(df_sales_customers_grouped_toPandas, x=\"country\", y=\"count\", color=\"gender\", \n",
    "             title=\"Countries by Customer Count (Stacked by Gender)\", \n",
    "             barmode=\"stack\")\n",
    "counties_gender_barchart.show()"
   ]
  },
  {
   "cell_type": "code",
   "execution_count": 0,
   "metadata": {
    "application/vnd.databricks.v1+cell": {
     "cellMetadata": {
      "byteLimit": 2048000,
      "rowLimit": 10000
     },
     "inputWidgets": {},
     "nuid": "da8ded38-c3e5-4021-bd63-afa856caa161",
     "showTitle": false,
     "tableResultSettingsMap": {},
     "title": ""
    }
   },
   "outputs": [],
   "source": [
    "#Let's explore most popular male and female names \n",
    "top_male_names = (\n",
    "    df_sales_customers\n",
    "    .filter(\"gender = 'male'\")\n",
    "    .groupBy(\"gender\",\"first_name\")\n",
    "    .count()\n",
    "    .orderBy(\"count\",ascending=False)\n",
    "    .limit(3)\n",
    ")\n",
    "\n",
    "top_female_names = (\n",
    "    df_sales_customers\n",
    "    .filter(\"gender = 'female'\")\n",
    "    .groupBy(\"gender\",\"first_name\")\n",
    "    .count()\n",
    "    .orderBy(\"count\",ascending=False)\n",
    "    .limit(3)\n",
    ")\n",
    "\n",
    "display(top_male_names.union(top_female_names))\n",
    "# Mathew is female, Jennifer is make - looks like data has been randomly generated w/o proper sense"
   ]
  },
  {
   "cell_type": "markdown",
   "metadata": {
    "application/vnd.databricks.v1+cell": {
     "cellMetadata": {},
     "inputWidgets": {},
     "nuid": "a1c1a2b7-a5f0-426d-bf88-a176c6ca3a2c",
     "showTitle": false,
     "tableResultSettingsMap": {},
     "title": ""
    }
   },
   "source": [
    "2: sales_suppliers"
   ]
  },
  {
   "cell_type": "code",
   "execution_count": 0,
   "metadata": {
    "application/vnd.databricks.v1+cell": {
     "cellMetadata": {
      "byteLimit": 2048000,
      "rowLimit": 10000
     },
     "inputWidgets": {},
     "nuid": "115a79cd-e785-4f57-b100-553e350ba861",
     "showTitle": false,
     "tableResultSettingsMap": {},
     "title": ""
    }
   },
   "outputs": [],
   "source": [
    "df_sales_suppliers = spark.read.table(\"samples.bakehouse.sales_suppliers\")\n",
    "df_sales_suppliers.printSchema()\n",
    "df_sales_suppliers.limit(3).toPandas()"
   ]
  }
 ],
 "metadata": {
  "application/vnd.databricks.v1+notebook": {
   "computePreferences": null,
   "dashboards": [],
   "environmentMetadata": {
    "base_environment": "",
    "environment_version": "2"
   },
   "inputWidgetPreferences": null,
   "language": "python",
   "notebookMetadata": {
    "pythonIndentUnit": 4
   },
   "notebookName": "01_bakehouse_simple_etl_workflow",
   "widgets": {}
  },
  "language_info": {
   "name": "python"
  }
 },
 "nbformat": 4,
 "nbformat_minor": 0
}
