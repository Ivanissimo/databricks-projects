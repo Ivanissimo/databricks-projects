{
 "cells": [
  {
   "cell_type": "markdown",
   "metadata": {
    "application/vnd.databricks.v1+cell": {
     "cellMetadata": {
      "byteLimit": 2048000,
      "rowLimit": 10000
     },
     "inputWidgets": {},
     "nuid": "cbd1e4fa-254d-4ede-8e42-f799f2bd4969",
     "showTitle": false,
     "tableResultSettingsMap": {},
     "title": ""
    }
   },
   "source": [
    "The purpose of this notebook is to practice most common data exloration techniques on the `bakehouse` sample data"
   ]
  },
  {
   "cell_type": "code",
   "execution_count": 0,
   "metadata": {
    "application/vnd.databricks.v1+cell": {
     "cellMetadata": {
      "byteLimit": 2048000,
      "rowLimit": 10000
     },
     "inputWidgets": {},
     "nuid": "63f56cfd-345b-4f94-9bbd-d0dd4875086d",
     "showTitle": false,
     "tableResultSettingsMap": {},
     "title": ""
    }
   },
   "outputs": [],
   "source": [
    "import plotly.express as px\n",
    "import pyspark.sql.functions as F \n",
    "from pyspark.sql.functions import countDistinct\n",
    "from pyspark.sql.functions import to_timestamp,col,lit\n",
    "from pyspark.sql import Window"
   ]
  },
  {
   "cell_type": "markdown",
   "metadata": {
    "application/vnd.databricks.v1+cell": {
     "cellMetadata": {
      "byteLimit": 2048000,
      "rowLimit": 10000
     },
     "inputWidgets": {},
     "nuid": "ff1e9ae5-ec56-4d5c-86b3-a79a90f694cc",
     "showTitle": false,
     "tableResultSettingsMap": {},
     "title": ""
    }
   },
   "source": [
    "1: sales_customers"
   ]
  },
  {
   "cell_type": "code",
   "execution_count": 0,
   "metadata": {
    "application/vnd.databricks.v1+cell": {
     "cellMetadata": {
      "byteLimit": 2048000,
      "rowLimit": 10000
     },
     "inputWidgets": {},
     "nuid": "c15836eb-5046-48d2-adba-ae0dd668f787",
     "showTitle": false,
     "tableResultSettingsMap": {},
     "title": ""
    }
   },
   "outputs": [],
   "source": [
    "#Loading data\n",
    "spark.sql(\"DESCRIBE DETAIL samples.bakehouse.sales_customers\").select(\"format\", \"numFiles\", \"location\").collect()\n",
    "#format='delta' means it's a delta table"
   ]
  },
  {
   "cell_type": "code",
   "execution_count": 0,
   "metadata": {
    "application/vnd.databricks.v1+cell": {
     "cellMetadata": {
      "byteLimit": 2048000,
      "rowLimit": 10000
     },
     "inputWidgets": {},
     "nuid": "cad78d38-2244-4554-bdee-8545f437e9e4",
     "showTitle": false,
     "tableResultSettingsMap": {},
     "title": ""
    }
   },
   "outputs": [],
   "source": [
    "df_sales_customers = spark.read.table(\"samples.bakehouse.sales_customers\") #using read.table as it's a delta table"
   ]
  },
  {
   "cell_type": "code",
   "execution_count": 0,
   "metadata": {
    "application/vnd.databricks.v1+cell": {
     "cellMetadata": {
      "byteLimit": 2048000,
      "rowLimit": 10000
     },
     "inputWidgets": {},
     "nuid": "7b8c4afe-1b45-416b-b5c4-3b2daad6ff59",
     "showTitle": false,
     "tableResultSettingsMap": {},
     "title": ""
    }
   },
   "outputs": [],
   "source": [
    "# Printing schema and 3 rows in a Pandas-style DataFrame\n",
    "df_sales_customers.printSchema()\n",
    "df_sales_customers.limit(3).toPandas()"
   ]
  },
  {
   "cell_type": "code",
   "execution_count": 0,
   "metadata": {
    "application/vnd.databricks.v1+cell": {
     "cellMetadata": {
      "byteLimit": 2048000,
      "rowLimit": 10000
     },
     "inputWidgets": {},
     "nuid": "b1b00535-a3d6-412a-abcd-41c44e8525b7",
     "showTitle": false,
     "tableResultSettingsMap": {},
     "title": ""
    }
   },
   "outputs": [],
   "source": [
    "# count,mean,stddev,min,max\n",
    "df_sales_customers.describe().toPandas()"
   ]
  },
  {
   "cell_type": "code",
   "execution_count": 0,
   "metadata": {
    "application/vnd.databricks.v1+cell": {
     "cellMetadata": {
      "byteLimit": 2048000,
      "rowLimit": 10000
     },
     "inputWidgets": {},
     "nuid": "76f1fab0-b9b7-4497-8dda-c374b0bc2e82",
     "showTitle": false,
     "tableResultSettingsMap": {},
     "title": ""
    }
   },
   "outputs": [],
   "source": [
    "#count distinct values for each field of a dataFrame\n",
    "df_sales_customers.select([countDistinct(col(c)).alias(c) for c in df_sales_customers.columns]).show()\n",
    "\n",
    "# Nulls per column\n",
    "df_sales_customers.select([F.count(F.when(col(c).isNull(), c)).alias(c) for c in df_sales_customers.columns]).show()"
   ]
  },
  {
   "cell_type": "code",
   "execution_count": 0,
   "metadata": {
    "application/vnd.databricks.v1+cell": {
     "cellMetadata": {
      "byteLimit": 2048000,
      "rowLimit": 10000
     },
     "inputWidgets": {},
     "nuid": "ac421b27-a41f-4220-bcca-2cbe4b9df0dc",
     "showTitle": false,
     "tableResultSettingsMap": {},
     "title": ""
    }
   },
   "outputs": [],
   "source": [
    "# Let's see how many rows we have per gender/continen/country/state/city granularity\n",
    "df_sales_customers.groupBy(\"gender\",\"continent\",\"country\",\"state\",\"city\").count().orderBy(\"count\",ascending=False).show(3)\n",
    "\n",
    "# Wow, just one customer per one city, that's strange\n",
    "df_sales_customers.filter(df_sales_customers[\"city\"] == \"Jamesville\").toPandas()"
   ]
  },
  {
   "cell_type": "code",
   "execution_count": 0,
   "metadata": {
    "application/vnd.databricks.v1+cell": {
     "cellMetadata": {
      "byteLimit": 2048000,
      "rowLimit": 10000
     },
     "inputWidgets": {},
     "nuid": "08a1c257-339b-4ccd-9684-254a76b82eb0",
     "showTitle": false,
     "tableResultSettingsMap": {},
     "title": ""
    }
   },
   "outputs": [],
   "source": [
    "# Alright, let's see how many rows we have per state granularity, w/o city\n",
    "df_sales_customers.groupBy(\"gender\",\"continent\",\"country\",\"state\").count().orderBy(\"count\",ascending=False).show(3)"
   ]
  },
  {
   "cell_type": "code",
   "execution_count": 0,
   "metadata": {
    "application/vnd.databricks.v1+cell": {
     "cellMetadata": {
      "byteLimit": 2048000,
      "rowLimit": 10000
     },
     "inputWidgets": {},
     "nuid": "1ff645c3-c67d-42c9-ad04-1a2e654a784c",
     "showTitle": false,
     "tableResultSettingsMap": {},
     "title": ""
    }
   },
   "outputs": [],
   "source": [
    "#Let's see male/female count per country in a table form\n",
    "df_sales_customers_grouped = df_sales_customers.groupBy(\"gender\",\"country\").count()\n",
    "df_sales_customers_grouped_toPandas = df_sales_customers_grouped.orderBy(\"count\", ascending=False).toPandas()\n",
    "df_sales_customers_grouped_toPandas"
   ]
  },
  {
   "cell_type": "code",
   "execution_count": 0,
   "metadata": {
    "application/vnd.databricks.v1+cell": {
     "cellMetadata": {
      "byteLimit": 2048000,
      "rowLimit": 10000
     },
     "inputWidgets": {},
     "nuid": "71436f29-a937-41a2-a16f-1ae8d45f7e43",
     "showTitle": false,
     "tableResultSettingsMap": {},
     "title": ""
    }
   },
   "outputs": [],
   "source": [
    "#Let's visualise the same data in a stacked bar chart\n",
    "counties_gender_barchart = px.bar(df_sales_customers_grouped_toPandas, x=\"country\", y=\"count\", color=\"gender\", \n",
    "             title=\"Countries by Customer Count (Stacked by Gender)\", \n",
    "             barmode=\"stack\")\n",
    "counties_gender_barchart.show()"
   ]
  },
  {
   "cell_type": "code",
   "execution_count": 0,
   "metadata": {
    "application/vnd.databricks.v1+cell": {
     "cellMetadata": {
      "byteLimit": 2048000,
      "rowLimit": 10000
     },
     "inputWidgets": {},
     "nuid": "da8ded38-c3e5-4021-bd63-afa856caa161",
     "showTitle": false,
     "tableResultSettingsMap": {},
     "title": ""
    }
   },
   "outputs": [],
   "source": [
    "#Let's explore most popular male and female names \n",
    "top_male_names = (\n",
    "    df_sales_customers\n",
    "    .filter(\"gender = 'male'\")\n",
    "    .groupBy(\"gender\",\"first_name\")\n",
    "    .count()\n",
    "    .orderBy(\"count\",ascending=False)\n",
    "    .limit(3)\n",
    ")\n",
    "\n",
    "top_female_names = (\n",
    "    df_sales_customers\n",
    "    .filter(\"gender = 'female'\")\n",
    "    .groupBy(\"gender\",\"first_name\")\n",
    "    .count()\n",
    "    .orderBy(\"count\",ascending=False)\n",
    "    .limit(3)\n",
    ")\n",
    "\n",
    "display(top_male_names.union(top_female_names))\n",
    "# Mathew is female, Jennifer is make - looks like data has been randomly generated w/o proper sense"
   ]
  },
  {
   "cell_type": "markdown",
   "metadata": {
    "application/vnd.databricks.v1+cell": {
     "cellMetadata": {
      "byteLimit": 2048000,
      "rowLimit": 10000
     },
     "inputWidgets": {},
     "nuid": "a1c1a2b7-a5f0-426d-bf88-a176c6ca3a2c",
     "showTitle": false,
     "tableResultSettingsMap": {},
     "title": ""
    }
   },
   "source": [
    "2: sales_suppliers"
   ]
  },
  {
   "cell_type": "code",
   "execution_count": 0,
   "metadata": {
    "application/vnd.databricks.v1+cell": {
     "cellMetadata": {
      "byteLimit": 2048000,
      "rowLimit": 10000
     },
     "inputWidgets": {},
     "nuid": "115a79cd-e785-4f57-b100-553e350ba861",
     "showTitle": false,
     "tableResultSettingsMap": {},
     "title": ""
    }
   },
   "outputs": [],
   "source": [
    "df_sales_suppliers = spark.read.table(\"samples.bakehouse.sales_suppliers\")\n",
    "df_sales_suppliers.printSchema()\n",
    "df_sales_suppliers.limit(3).toPandas()\n"
   ]
  },
  {
   "cell_type": "code",
   "execution_count": 0,
   "metadata": {
    "application/vnd.databricks.v1+cell": {
     "cellMetadata": {
      "byteLimit": 2048000,
      "rowLimit": 10000
     },
     "inputWidgets": {},
     "nuid": "b5ce657d-cde1-4b94-b179-1dfcd5df2958",
     "showTitle": false,
     "tableResultSettingsMap": {},
     "title": ""
    }
   },
   "outputs": [],
   "source": [
    "# count,mean,stddev,min,max\n",
    "df_sales_suppliers.describe().toPandas()"
   ]
  },
  {
   "cell_type": "code",
   "execution_count": 0,
   "metadata": {
    "application/vnd.databricks.v1+cell": {
     "cellMetadata": {
      "byteLimit": 2048000,
      "rowLimit": 10000
     },
     "inputWidgets": {},
     "nuid": "859c54ab-7486-4e5a-87c6-3453f12dc287",
     "showTitle": false,
     "tableResultSettingsMap": {},
     "title": ""
    }
   },
   "outputs": [],
   "source": [
    "# count distinct values for each field of a dataFrame\n",
    "df_sales_suppliers.select([countDistinct(col(c)).alias(c) for c in df_sales_suppliers.columns]).show()\n",
    "\n",
    "# Nulls per column\n",
    "df_sales_suppliers.select([F.count(F.when(col(c).isNull(), c)).alias(c) for c in df_sales_suppliers.columns]).show()"
   ]
  },
  {
   "cell_type": "code",
   "execution_count": 0,
   "metadata": {
    "application/vnd.databricks.v1+cell": {
     "cellMetadata": {
      "byteLimit": 2048000,
      "rowLimit": 10000
     },
     "inputWidgets": {},
     "nuid": "8de66dac-dfbb-44d9-8fd5-385c67cf9073",
     "showTitle": false,
     "tableResultSettingsMap": {},
     "title": ""
    }
   },
   "outputs": [],
   "source": [
    "df_sales_suppliers.groupBy(\"ingredient\").count().orderBy(\"count\", ascending=False).limit(5).show()\n",
    "# only one supplier per one ingredient"
   ]
  },
  {
   "cell_type": "code",
   "execution_count": 0,
   "metadata": {
    "application/vnd.databricks.v1+cell": {
     "cellMetadata": {
      "byteLimit": 2048000,
      "rowLimit": 10000
     },
     "inputWidgets": {},
     "nuid": "6a273824-afee-4664-a74d-d4863e9746d7",
     "showTitle": false,
     "tableResultSettingsMap": {},
     "title": ""
    }
   },
   "outputs": [],
   "source": [
    "df_sales_suppliers.groupBy(\"continent\").count().orderBy(\"count\", ascending=False).show()\n",
    "# most ingredients are from Asia"
   ]
  },
  {
   "cell_type": "markdown",
   "metadata": {
    "application/vnd.databricks.v1+cell": {
     "cellMetadata": {
      "byteLimit": 2048000,
      "rowLimit": 10000
     },
     "inputWidgets": {},
     "nuid": "bdc1a49d-089a-4032-b306-a64256568c87",
     "showTitle": false,
     "tableResultSettingsMap": {},
     "title": ""
    }
   },
   "source": [
    "3: sales_franchises"
   ]
  },
  {
   "cell_type": "code",
   "execution_count": 0,
   "metadata": {
    "application/vnd.databricks.v1+cell": {
     "cellMetadata": {
      "byteLimit": 2048000,
      "rowLimit": 10000
     },
     "inputWidgets": {},
     "nuid": "70512d82-dc68-4864-a234-469413f07154",
     "showTitle": false,
     "tableResultSettingsMap": {},
     "title": ""
    }
   },
   "outputs": [],
   "source": [
    "df_sales_franchises = spark.read.table(\"samples.bakehouse.sales_franchises\")\n",
    "df_sales_franchises.printSchema()\n",
    "df_sales_franchises.limit(3).toPandas()"
   ]
  },
  {
   "cell_type": "code",
   "execution_count": 0,
   "metadata": {
    "application/vnd.databricks.v1+cell": {
     "cellMetadata": {
      "byteLimit": 2048000,
      "rowLimit": 10000
     },
     "inputWidgets": {},
     "nuid": "46218c90-d8dc-4e3b-ac6c-c61b5b02586a",
     "showTitle": false,
     "tableResultSettingsMap": {},
     "title": ""
    }
   },
   "outputs": [],
   "source": [
    "# count,mean,stddev,min,max\n",
    "df_sales_franchises.describe().show()"
   ]
  },
  {
   "cell_type": "code",
   "execution_count": 0,
   "metadata": {
    "application/vnd.databricks.v1+cell": {
     "cellMetadata": {
      "byteLimit": 2048000,
      "rowLimit": 10000
     },
     "inputWidgets": {},
     "nuid": "f4f91e39-630e-4187-a09e-fc8eaf3aee9f",
     "showTitle": false,
     "tableResultSettingsMap": {},
     "title": ""
    }
   },
   "outputs": [],
   "source": [
    "# count distinct values for each field of a dataFrame\n",
    "df_sales_franchises.select([countDistinct(col(c)).alias(c) for c in df_sales_franchises.columns]).show()\n",
    "\n",
    "# Nulls per column\n",
    "df_sales_franchises.select([F.count(F.when(col(c).isNull(), c)).alias(c) for c in df_sales_franchises.columns]).show()"
   ]
  },
  {
   "cell_type": "code",
   "execution_count": 0,
   "metadata": {
    "application/vnd.databricks.v1+cell": {
     "cellMetadata": {
      "byteLimit": 2048000,
      "rowLimit": 10000
     },
     "inputWidgets": {},
     "nuid": "78e7c2f1-ef9f-41d0-9e64-eb64b131c145",
     "showTitle": false,
     "tableResultSettingsMap": {},
     "title": ""
    }
   },
   "outputs": [],
   "source": [
    "# explore L, XL, XXL size franchises\n",
    "(\n",
    "df_sales_franchises \n",
    "    .where(\"size NOT IN ('S', 'M')\") # excluding S and M \n",
    "    .groupBy(\"country\", \"size\") \n",
    "    .count() \n",
    "    .orderBy(\"country\", \"size\", ascending=False) \n",
    "    .show()\n",
    ")"
   ]
  },
  {
   "cell_type": "code",
   "execution_count": 0,
   "metadata": {
    "application/vnd.databricks.v1+cell": {
     "cellMetadata": {
      "byteLimit": 2048000,
      "rowLimit": 10000
     },
     "inputWidgets": {},
     "nuid": "115ba1f5-f0b1-45d9-80c3-75c93d2f3824",
     "showTitle": false,
     "tableResultSettingsMap": {},
     "title": ""
    }
   },
   "outputs": [],
   "source": [
    "# the same results, but in a stacked bar chart\n",
    "df_sales_franchises_grouped_toPandas = (\n",
    "df_sales_franchises \n",
    "    .where(\"size NOT IN ('S', 'M')\") # excluding S and M \n",
    "    .groupBy(\"country\", \"size\") \n",
    "    .count() \n",
    "    .withColumn(\"countPerCountry\",F.sum(\"count\").over(Window.partitionBy(\"country\"))) #WFunction to count total per country\n",
    "    .orderBy(\"countPerCountry\", ascending=False) \n",
    "    .toPandas()\n",
    ")\n",
    "counties_size_barchart = px.bar(df_sales_franchises_grouped_toPandas, x=\"country\", y=\"count\", color=\"size\", \n",
    "             title=\"Countries by Francise Count (Stacked by Size)\", \n",
    "             barmode=\"stack\")\n",
    "counties_size_barchart.show()"
   ]
  },
  {
   "cell_type": "code",
   "execution_count": 0,
   "metadata": {
    "application/vnd.databricks.v1+cell": {
     "cellMetadata": {
      "byteLimit": 2048000,
      "rowLimit": 10000
     },
     "inputWidgets": {},
     "nuid": "ff3bfcf5-67b1-4b0b-b5df-e6ebdbfc3ae1",
     "showTitle": false,
     "tableResultSettingsMap": {},
     "title": ""
    }
   },
   "outputs": [],
   "source": [
    "# cities with more than one franchise and their countries \n",
    "(\n",
    "    df_sales_franchises\n",
    "        .groupBy(\"country\", \"city\")\n",
    "        .count()\n",
    "        .where(\"count > 1\")\n",
    "        .orderBy(\"country\",\"count\", ascending=False)\n",
    "        .show()\n",
    ")\n",
    "\n",
    "df_sales_franchises.where(\"city = 'Seattle'\").show()\n",
    "# indeed, there are two franchise points located in Seattle"
   ]
  },
  {
   "cell_type": "markdown",
   "metadata": {
    "application/vnd.databricks.v1+cell": {
     "cellMetadata": {},
     "inputWidgets": {},
     "nuid": "42cd9998-a64c-487a-88e5-1ba1bc374dbd",
     "showTitle": false,
     "tableResultSettingsMap": {},
     "title": ""
    }
   },
   "source": [
    "4: sales_transactions"
   ]
  },
  {
   "cell_type": "code",
   "execution_count": 0,
   "metadata": {
    "application/vnd.databricks.v1+cell": {
     "cellMetadata": {
      "byteLimit": 2048000,
      "rowLimit": 10000
     },
     "inputWidgets": {},
     "nuid": "2419b929-08ca-4911-ba53-424a3ffcc7f2",
     "showTitle": false,
     "tableResultSettingsMap": {},
     "title": ""
    }
   },
   "outputs": [],
   "source": [
    "sales_transactions = spark.read.table(\"samples.bakehouse.sales_transactions\")\n",
    "sales_transactions.printSchema()\n",
    "sales_transactions.limit(3).toPandas()"
   ]
  },
  {
   "cell_type": "code",
   "execution_count": 0,
   "metadata": {
    "application/vnd.databricks.v1+cell": {
     "cellMetadata": {
      "byteLimit": 2048000,
      "rowLimit": 10000
     },
     "inputWidgets": {},
     "nuid": "7501c78d-7231-4e0a-b3d2-788bdfc0643a",
     "showTitle": false,
     "tableResultSettingsMap": {},
     "title": ""
    }
   },
   "outputs": [],
   "source": [
    "# count distinct values for each field of a dataFrame\n",
    "sales_transactions.select([countDistinct(col(c)).alias(c) for c in sales_transactions.columns]).show()\n",
    "\n",
    "# Nulls per column\n",
    "sales_transactions.select([F.count(F.when(col(c).isNull(), (c))).alias(c) for c in sales_transactions.columns]).show()"
   ]
  },
  {
   "cell_type": "code",
   "execution_count": 0,
   "metadata": {
    "application/vnd.databricks.v1+cell": {
     "cellMetadata": {
      "byteLimit": 2048000,
      "rowLimit": 10000
     },
     "inputWidgets": {},
     "nuid": "8ea87677-8c1c-4938-a01c-28f8761b63fb",
     "showTitle": false,
     "tableResultSettingsMap": {},
     "title": ""
    }
   },
   "outputs": [],
   "source": [
    "from pyspark.sql.functions import sum\n",
    "\n",
    "( # sales by product\n",
    "    sales_transactions\n",
    "        .groupBy(\"product\", \"unitPrice\")\n",
    "        .agg(\n",
    "            sum(\"totalPrice\").alias(\"sum_totalPrice\"),\n",
    "            sum(\"quantity\").alias(\"sum_quantity\")\n",
    "        )\n",
    "        .orderBy(\"sum_totalPrice\", ascending = False)\n",
    "        .show(truncate = False)\n",
    ")\n",
    "\n",
    "( #sales by payment method\n",
    "    sales_transactions\n",
    "        .groupBy(\"paymentMethod\")\n",
    "        .agg(\n",
    "            sum(\"totalPrice\").alias(\"sum_totalPrice\"),\n",
    "            sum(\"quantity\").alias(\"sum_quantity\")\n",
    "        )\n",
    "        .orderBy(\"sum_totalPrice\", ascending = False)\n",
    "        .show(truncate = False)\n",
    ")"
   ]
  }
 ],
 "metadata": {
  "application/vnd.databricks.v1+notebook": {
   "computePreferences": null,
   "dashboards": [],
   "environmentMetadata": {
    "base_environment": "",
    "environment_version": "2"
   },
   "inputWidgetPreferences": null,
   "language": "python",
   "notebookMetadata": {
    "pythonIndentUnit": 4
   },
   "notebookName": "01_bakehouse_exloratory_analysis",
   "widgets": {}
  },
  "language_info": {
   "name": "python"
  }
 },
 "nbformat": 4,
 "nbformat_minor": 0
}
